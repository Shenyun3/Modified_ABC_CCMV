{
 "cells": [
  {
   "cell_type": "code",
   "execution_count": 2,
   "id": "73343235",
   "metadata": {
    "ExecuteTime": {
     "end_time": "2024-01-10T07:34:43.745825Z",
     "start_time": "2024-01-10T07:34:43.114058Z"
    }
   },
   "outputs": [],
   "source": [
    "# Author: Bian Hanzhang\n",
    "\n",
    "\"\"\"import packages\"\"\"\n",
    "import random as rand\n",
    "from copy import deepcopy\n",
    "# import time\n",
    "# from math import floor\n",
    "import numpy as np\n",
    "import matplotlib.pyplot as plt\n",
    "import pandas as pd\n",
    "from matplotlib.pyplot import MultipleLocator"
   ]
  },
  {
   "cell_type": "code",
   "execution_count": 3,
   "id": "208874a2",
   "metadata": {
    "ExecuteTime": {
     "end_time": "2024-01-10T07:34:43.752928Z",
     "start_time": "2024-01-10T07:34:43.746784Z"
    }
   },
   "outputs": [],
   "source": [
    "# read file\n",
    "\n",
    "FILE_NAME = \"/Users/bianhanzhang/Desktop/data/asset pool/SP500_100_assets_pool.csv\"\n",
    "data = pd.read_csv(FILE_NAME)\n",
    "\n",
    "SP_mean_rtn = np.reshape(np.array(data.iloc[:,0]),(100,1))\n",
    "SP_cov_rtn = np.array(data.iloc[:,1:])"
   ]
  },
  {
   "cell_type": "code",
   "execution_count": 4,
   "id": "63421d44",
   "metadata": {
    "ExecuteTime": {
     "end_time": "2024-01-10T07:34:50.575390Z",
     "start_time": "2024-01-10T07:34:50.567008Z"
    }
   },
   "outputs": [],
   "source": [
    "# Parameter Class\n",
    "\n",
    "class ParameterInformation:\n",
    "    \"\"\"\n",
    "    store algorithm's parameter:\n",
    "    population: amount of bees = employed bees = onlooking bees\n",
    "    max_bound: upper bound of one gene on chromosome\n",
    "    min_bound: lower bound of one gene on chromosome\n",
    "    max_iter_num: max iteration times of each nectar\n",
    "    algo_iter_num: current iteration times of the algorithm \n",
    "    max_algo_iter_num: max iteration times of the algorithm\n",
    "    risk_averse_para: risk aversion parameter of investor\n",
    "    \"\"\"\n",
    "    population = 0\n",
    "    dimension = 0\n",
    "    max_bound = 0\n",
    "    min_bound = 0\n",
    "    max_iter_num = 0\n",
    "    algo_iter_num = 0\n",
    "    algo_max_iter_num = 0\n",
    "    risk_averse_para = 0\n",
    "\n",
    "    def __init__(self, population, dimension, min_bound, max_bound, max_iter_num, algo_max_iter_num, risk_averse_para):\n",
    "        self.population = population\n",
    "        self.dimension = dimension\n",
    "        self.max_bound = max_bound\n",
    "        self.min_bound = min_bound\n",
    "        self.max_iter_num = max_iter_num\n",
    "        self.algo_max_iter_num = algo_max_iter_num\n",
    "        self.risk_averse_para = risk_averse_para\n",
    "\n",
    "    def set_algo_iter_num(self, value):\n",
    "        \"\"\"set algorithm's iteration number\"\"\"\n",
    "        self.algo_iter_num = value\n",
    "\n",
    "    def show_parameter(self):\n",
    "        \"\"\"show parameter\"\"\"\n",
    "        print(\"Parameter Information:\")\n",
    "        print(f\"population: {self.population} \")\n",
    "        print(f\"dimension: {self.dimension}\")\n",
    "        print(f\"bounds: [{self.min_bound},{self.max_bound}]\")\n",
    "        print(\"max_iter_num: %s \" % self.max_iter_num)\n",
    "        print(\"algo_max_iter_num: %s \" % self.algo_max_iter_num)"
   ]
  },
  {
   "cell_type": "code",
   "execution_count": 5,
   "id": "fb6e05d6",
   "metadata": {
    "ExecuteTime": {
     "end_time": "2024-01-10T07:34:55.941026Z",
     "start_time": "2024-01-10T07:34:55.929946Z"
    }
   },
   "outputs": [],
   "source": [
    "class Nectar:\n",
    "    \"\"\"nectar(chromosome) information\"\"\"\n",
    "\n",
    "    chromosome = np.array([])\n",
    "    fitness = 0\n",
    "    test_func_value = 0\n",
    "    iter_num = 0\n",
    "    select_probability = 0\n",
    "\n",
    "    def __init__(self, dimension) -> None:\n",
    "        \"\"\"initialize chromosome\"\"\"\n",
    "        self.chromosome = np.array([float for i in range(dimension)])\n",
    "\n",
    "    def set_chromosome(self, i, value):\n",
    "        \"\"\"set one position of the chromosome\"\"\"\n",
    "        self.chromosome[i] = value\n",
    "\n",
    "    def random_chromosome(self, min_bound, max_bound, dimension):\n",
    "        \"\"\"randomly generate a chromosome\"\"\"\n",
    "        self.chromosome = np.random.uniform(min_bound, max_bound, dimension)\n",
    "\n",
    "    def set_fitness(self, value):\n",
    "        \"\"\"set fitness of the nectar\"\"\"\n",
    "        self.fitness = value\n",
    "\n",
    "    def set_test_func_value(self, value):\n",
    "        \"\"\"set value of test function\"\"\"\n",
    "        self.test_func_value = value\n",
    "\n",
    "    def set_iter_num(self, value):\n",
    "        \"\"\"set how many times this nectar has been explored\"\"\"\n",
    "        self.iter_num = value\n",
    "\n",
    "    def set_select_probability(self, value):\n",
    "        \"\"\"set probability calculated by roulette\"\"\"\n",
    "        self.select_probability = value"
   ]
  },
  {
   "cell_type": "code",
   "execution_count": 6,
   "id": "9fe5b1e0",
   "metadata": {
    "ExecuteTime": {
     "end_time": "2024-01-10T07:34:59.618769Z",
     "start_time": "2024-01-10T07:34:59.608222Z"
    }
   },
   "outputs": [],
   "source": [
    "def mean_variance(x, mean_rtn, cov_rtn, risk_averse_para):\n",
    "    \"\"\"calculate objective function value\"\"\"\n",
    "    obj_func = risk_averse_para * np.dot(np.dot(x.T, cov_rtn), x) - \\\n",
    "        (1 - risk_averse_para) * np.dot(x.T, mean_rtn)\n",
    "    return obj_func\n",
    "\n",
    "\n",
    "def cal_fitness(obj_value):\n",
    "    \"\"\"calculate fitness value by obj_value\"\"\"\n",
    "    if obj_value >= 0:\n",
    "        fitness = 1/(1+obj_value)\n",
    "    else:\n",
    "        fitness = 1 + abs(obj_value)\n",
    "    return fitness\n",
    "\n",
    "\n",
    "def cal_violation(chromosome):\n",
    "    \"\"\"calculate violation of solution vector\"\"\"\n",
    "    violation = 0\n",
    "    # constraint 1: sum of weight equals to 1\n",
    "    violation += abs(sum(chromosome) - 1)\n",
    "    return violation\n",
    "\n",
    "\n",
    "def deb_method(chromosome1, chromosome2, fit1, fit2):\n",
    "    \"\"\"selection method after exploring\"\"\"\n",
    "    violation1 = cal_violation(chromosome1)\n",
    "    violation2 = cal_violation(chromosome2)\n",
    "    if violation1 != violation2:\n",
    "        return violation1 > violation2\n",
    "    else:\n",
    "        return fit1 < fit2"
   ]
  },
  {
   "cell_type": "code",
   "execution_count": 7,
   "id": "88b9af81",
   "metadata": {
    "ExecuteTime": {
     "end_time": "2024-01-10T07:35:03.243525Z",
     "start_time": "2024-01-10T07:35:03.230597Z"
    }
   },
   "outputs": [],
   "source": [
    "def init_nectar_sources(nectar_sources, best_nectar_source, parameter, mean_rtn, cov_rtn):\n",
    "    \"\"\"initialize nectars sources\"\"\"\n",
    "    best_nectar_source.random_chromosome(\n",
    "        parameter.min_bound, parameter.max_bound, parameter.dimension)\n",
    "    best_nectar_source.set_test_func_value(\n",
    "        mean_variance(best_nectar_source.chromosome, mean_rtn, cov_rtn, parameter.risk_averse_para))\n",
    "    best_nectar_source.set_fitness(\n",
    "        cal_fitness(best_nectar_source.test_func_value))\n",
    "    best_nectar_source.set_select_probability(0)\n",
    "    best_nectar_source.set_iter_num(0)\n",
    "    for i in range(parameter.population):\n",
    "        nectar_sources[i].random_chromosome(\n",
    "            parameter.min_bound, parameter.max_bound, parameter.dimension)\n",
    "        nectar_sources[i].set_test_func_value(mean_variance(\n",
    "            nectar_sources[i].chromosome, mean_rtn, cov_rtn, parameter.risk_averse_para))\n",
    "        nectar_sources[i].set_fitness(\n",
    "            cal_fitness(nectar_sources[i].test_func_value))\n",
    "        nectar_sources[i].set_select_probability(0)\n",
    "        nectar_sources[i].set_iter_num(0)\n",
    "\n",
    "\n",
    "def regenerate_nectar(nectar_sources, i, parameter, mean_rtn, cov_rtn):\n",
    "    \"\"\"regenerate a new nectar\"\"\"\n",
    "    nectar_sources[i].random_chromosome(\n",
    "        parameter.min_bound, parameter.max_bound, parameter.dimension)\n",
    "    nectar_sources[i].set_test_func_value(\n",
    "        mean_variance(nectar_sources[i].chromosome, mean_rtn, cov_rtn, parameter.risk_averse_para))\n",
    "    nectar_sources[i].set_fitness(\n",
    "        cal_fitness(nectar_sources[i].test_func_value))\n",
    "    nectar_sources[i].set_select_probability(0)\n",
    "    nectar_sources[i].set_iter_num(0)\n",
    "\n",
    "\n",
    "def copy(nectar1, nectar2):\n",
    "    \"\"\"copy information from nectar2 to nectar1\"\"\"\n",
    "    nectar1.chromosome = deepcopy(nectar2.chromosome)\n",
    "    nectar1.set_test_func_value(nectar2.test_func_value)\n",
    "    nectar1.set_fitness(nectar2.fitness)\n",
    "\n",
    "\n",
    "def save_best_nectar_source(nectar_sources, best_nectar_source, parameter):\n",
    "    \"\"\"save the best nectar source into best_nectar_source\"\"\"\n",
    "    for i in range(parameter.population):\n",
    "        if nectar_sources[i].test_func_value < best_nectar_source.test_func_value:\n",
    "            copy(best_nectar_source, nectar_sources[i])"
   ]
  },
  {
   "cell_type": "code",
   "execution_count": 8,
   "id": "0ebde9c8",
   "metadata": {
    "ExecuteTime": {
     "end_time": "2024-01-10T07:35:04.329354Z",
     "start_time": "2024-01-10T07:35:04.315592Z"
    }
   },
   "outputs": [],
   "source": [
    "def employed_bee_behavior(nectar_sources, parameter, mean_rtn, cov_rtn, MR):\n",
    "    \"\"\"employed bee behavior\"\"\"\n",
    "    for i in range(parameter.population):\n",
    "        for j in range(parameter.dimension):\n",
    "            if np.random.rand() > MR:\n",
    "                # randomly select another nectar k to crossover, k!=i\n",
    "                while True:\n",
    "                    # parameter.population-1: since random.randint includes both boundary\n",
    "                    k = rand.randint(0, parameter.population - 1)\n",
    "                    if k != i:\n",
    "                        break\n",
    "                neighbor_chromosome = deepcopy(nectar_sources[i].chromosome)\n",
    "                neighbor_chromosome[j] = nectar_sources[i].chromosome[j] + \\\n",
    "                    rand.uniform(-1, 1) * \\\n",
    "                    (nectar_sources[i].chromosome[j] -\n",
    "                     nectar_sources[k].chromosome[j])\n",
    "\n",
    "                # preventing from exceeding boundary\n",
    "                if neighbor_chromosome[j] > parameter.max_bound:\n",
    "                    neighbor_chromosome[j] = parameter.max_bound\n",
    "                elif neighbor_chromosome[j] < parameter.min_bound:\n",
    "                    neighbor_chromosome[j] = parameter.min_bound\n",
    "\n",
    "                # calculate fitness of neighbor_chromosome and plus iter\n",
    "                neighbor_test_func_value = mean_variance(\n",
    "                    neighbor_chromosome, mean_rtn, cov_rtn, parameter.risk_averse_para)\n",
    "                neighbor_fitness = cal_fitness(neighbor_test_func_value)\n",
    "\n",
    "                # deb's method\n",
    "                if deb_method(nectar_sources[i].chromosome, neighbor_chromosome,\n",
    "                              nectar_sources[i].fitness, neighbor_fitness):\n",
    "                    nectar_sources[i].chromosome = deepcopy(\n",
    "                        neighbor_chromosome)\n",
    "                    nectar_sources[i].set_test_func_value(\n",
    "                        neighbor_test_func_value)\n",
    "                    nectar_sources[i].set_fitness(neighbor_fitness)\n",
    "                    nectar_sources[i].set_iter_num(0)\n",
    "                else:\n",
    "                    nectar_sources[i].set_iter_num(\n",
    "                        nectar_sources[i].iter_num + 1)\n",
    "\n",
    "    # algorithms's iteration times +1\n",
    "    parameter.set_algo_iter_num(parameter.algo_iter_num + 1)"
   ]
  },
  {
   "cell_type": "code",
   "execution_count": 9,
   "id": "cef51a83",
   "metadata": {
    "ExecuteTime": {
     "end_time": "2024-01-10T07:35:05.551570Z",
     "start_time": "2024-01-10T07:35:05.543190Z"
    }
   },
   "outputs": [],
   "source": [
    "def roulette(nectar_sources, parameter):\n",
    "    \"\"\"calculate each nectar's selection probability\"\"\"\n",
    "    prob_list = []\n",
    "    fitness_list = [nectar_sources[i].fitness\n",
    "                    for i in range(parameter.population)]\n",
    "    violation_list = [cal_violation(nectar_sources[i].chromosome)\n",
    "                    for i in range(parameter.population)]\n",
    "    nectar_list = list(range(parameter.population))\n",
    "    prob_list = [\n",
    "    (1 - v / sum(violation_list)) * 0.5 if v > 0 else 0.5 + f / sum(fitness_list) * 0.5\n",
    "    for i, (v, f) in enumerate(zip(violation_list, fitness_list))]\n",
    "\n",
    "    # add [0] : rand.choices returns a list -> turns list into int\n",
    "    return rand.choices(nectar_list, prob_list)[0]"
   ]
  },
  {
   "cell_type": "code",
   "execution_count": 10,
   "id": "e5a2489e",
   "metadata": {
    "ExecuteTime": {
     "end_time": "2024-01-10T07:35:06.843949Z",
     "start_time": "2024-01-10T07:35:06.834593Z"
    }
   },
   "outputs": [],
   "source": [
    "def onlooking_bee_behavior(nectar_sources, parameter, mean_rtn, cov_rtn, MR):\n",
    "    \"\"\"onlooking bee behavior\"\"\"\n",
    "    i = 0\n",
    "    while i < parameter.population:\n",
    "        nectar_selected = roulette(nectar_sources, parameter)\n",
    "        # randomly choose a position of selected chromosome to explore\n",
    "        neighbor_chromosome = deepcopy(\n",
    "            nectar_sources[nectar_selected].chromosome)\n",
    "        for j in range(parameter.dimension):\n",
    "            if np.random.rand() > MR:\n",
    "                # randomly select another nectar k to crossover, k!=nectar_selected\n",
    "                while True:\n",
    "                    k = rand.randint(0, parameter.population - 1)\n",
    "                    if k != nectar_selected:\n",
    "                        break\n",
    "\n",
    "                neighbor_chromosome[j] = nectar_sources[nectar_selected] \\\n",
    "                    .chromosome[j] + rand.uniform(-1, 1) * \\\n",
    "                    (nectar_sources[nectar_selected]\n",
    "                     .chromosome[j]-nectar_sources[k].chromosome[j])\n",
    "\n",
    "                # preventing from exceeding boundary\n",
    "                if neighbor_chromosome[j] > parameter.max_bound:\n",
    "                    neighbor_chromosome[j] = parameter.max_bound\n",
    "                elif neighbor_chromosome[j] < parameter.min_bound:\n",
    "                    neighbor_chromosome[j] = parameter.min_bound\n",
    "\n",
    "            # calculate fitness of neighbor_chromosome and plus iter\n",
    "            neighbor_test_func_value = mean_variance(\n",
    "                neighbor_chromosome, mean_rtn, cov_rtn, parameter.risk_averse_para)\n",
    "            neighbor_fitness = cal_fitness(neighbor_test_func_value)\n",
    "\n",
    "            # deb's method\n",
    "            if deb_method(nectar_sources[nectar_selected].chromosome, neighbor_chromosome,\n",
    "                          nectar_sources[nectar_selected].fitness, neighbor_fitness):\n",
    "                nectar_sources[nectar_selected].chromosome = deepcopy(\n",
    "                    neighbor_chromosome)\n",
    "                nectar_sources[nectar_selected].set_test_func_value(\n",
    "                    neighbor_test_func_value)\n",
    "                nectar_sources[nectar_selected].set_fitness(neighbor_fitness)\n",
    "                nectar_sources[nectar_selected].set_iter_num(0)\n",
    "            else:\n",
    "                nectar_sources[nectar_selected].set_iter_num(\n",
    "                    nectar_sources[nectar_selected].iter_num+1)\n",
    "            i += 1"
   ]
  },
  {
   "cell_type": "code",
   "execution_count": 11,
   "id": "27202cbd",
   "metadata": {
    "ExecuteTime": {
     "end_time": "2024-01-10T07:35:08.425416Z",
     "start_time": "2024-01-10T07:35:08.419546Z"
    }
   },
   "outputs": [],
   "source": [
    "def scout_bee_behavior(nectar_sources, parameter, mean_rtn, cov_rtn):\n",
    "    \"\"\"scout bee behavior\"\"\"\n",
    "    for i in range(parameter.population):\n",
    "        if nectar_sources[i].iter_num > parameter.max_iter_num:\n",
    "            regenerate_nectar(nectar_sources, i, parameter, mean_rtn, cov_rtn)"
   ]
  },
  {
   "cell_type": "code",
   "execution_count": 12,
   "id": "c99154c9",
   "metadata": {
    "ExecuteTime": {
     "end_time": "2024-01-10T07:35:15.118963Z",
     "start_time": "2024-01-10T07:35:15.110398Z"
    }
   },
   "outputs": [],
   "source": [
    "def artificial_bee_colony(parameter, mean_rtn, cov_rtn, MR):\n",
    "    \"\"\"main function: control algorithm's process\"\"\"\n",
    "    parameter.show_parameter()\n",
    "    result_vector = np.array([None])\n",
    "    nectar_sources = np.array([Nectar(parameter.dimension)\n",
    "                              for i in range(parameter.population)])\n",
    "    best_nectar_source = Nectar(parameter.dimension)\n",
    "\n",
    "    # run algorithm max_test_num times and calculate mean result\n",
    "\n",
    "    parameter.set_algo_iter_num(0)\n",
    "    init_nectar_sources(nectar_sources, best_nectar_source,\n",
    "                        parameter, mean_rtn, cov_rtn)\n",
    "    save_best_nectar_source(nectar_sources, best_nectar_source, parameter)\n",
    "\n",
    "    while parameter.algo_iter_num < parameter.algo_max_iter_num:\n",
    "        employed_bee_behavior(nectar_sources, parameter, mean_rtn, cov_rtn, MR)\n",
    "        onlooking_bee_behavior(nectar_sources, parameter,\n",
    "                               mean_rtn, cov_rtn, MR)\n",
    "        save_best_nectar_source(\n",
    "            nectar_sources, best_nectar_source, parameter)\n",
    "        scout_bee_behavior(nectar_sources, parameter, mean_rtn, cov_rtn)\n",
    "        result_vector[0] = best_nectar_source.chromosome\n",
    "\n",
    "    # print(result_by_iter)\n",
    "    # draw(result_by_iter,parameter.algo_max_iter_num)\n",
    "\n",
    "    return result_vector"
   ]
  },
  {
   "cell_type": "code",
   "execution_count": 13,
   "id": "943858cd",
   "metadata": {
    "ExecuteTime": {
     "end_time": "2024-01-10T07:35:16.286626Z",
     "start_time": "2024-01-10T07:35:16.280418Z"
    }
   },
   "outputs": [],
   "source": [
    "def draw(func_value, max_algo_iter_num):\n",
    "    '''画出收敛图'''\n",
    "    x = np.linspace(0, max_algo_iter_num, max_algo_iter_num)\n",
    "    plt.figure(num=1, figsize=(8, 5))  # num表示的是编号，figsize表示的是图表的长宽\n",
    "    plt.yscale('log')  # 设置纵坐标的缩放\n",
    "    x_major_locator = MultipleLocator(\n",
    "        max_algo_iter_num/10)  # 把x轴的刻度间隔设置为100，并存在变量里\n",
    "    ax = plt.gca()  # ax为两条坐标轴的实例\n",
    "    ax.xaxis.set_major_locator(x_major_locator)  # 把x轴的主刻度设置为100的倍数\n",
    "\n",
    "    l1, = plt.plot(x, func_value, color='black',  # 线条颜色\n",
    "                   linewidth=1.5,  # 线条宽度\n",
    "                   linestyle='-',  # 线条样式\n",
    "                   label='algorithm1')\n",
    "    plt.show()"
   ]
  },
  {
   "cell_type": "code",
   "execution_count": 14,
   "id": "e90f91cf",
   "metadata": {
    "ExecuteTime": {
     "end_time": "2024-01-10T07:35:20.326499Z",
     "start_time": "2024-01-10T07:35:20.321451Z"
    }
   },
   "outputs": [],
   "source": [
    "def cal_ann_return_risk(weight, mean_rtn, cov_rtn):\n",
    "    \"\"\"calculate annual return and risk\"\"\"\n",
    "    ann_rtn = np.dot(weight, mean_rtn) * 251  # trading days: 251\n",
    "    ann_risk = np.sqrt(np.dot(np.dot(weight, cov_rtn),weight.T) * 251)\n",
    "    result = np.array([ann_rtn.item(),ann_risk])\n",
    "    return result"
   ]
  },
  {
   "cell_type": "code",
   "execution_count": 15,
   "id": "ef9cf0a1",
   "metadata": {
    "ExecuteTime": {
     "end_time": "2024-01-10T07:35:26.028366Z",
     "start_time": "2024-01-10T07:35:26.023485Z"
    }
   },
   "outputs": [],
   "source": [
    "def main(parameter,MR):\n",
    "    \"\"\"main function\"\"\"\n",
    "    print(\"------Artificial Bee Colony algorithms starts------\")\n",
    "    #starting_time = time.time()\n",
    "    result = artificial_bee_colony(parameter, SP_mean_rtn, SP_cov_rtn, MR)\n",
    "\n",
    "    return result"
   ]
  },
  {
   "cell_type": "code",
   "execution_count": 16,
   "id": "7b99cd12",
   "metadata": {
    "ExecuteTime": {
     "end_time": "2024-01-10T07:37:17.801626Z",
     "start_time": "2024-01-10T07:35:59.533410Z"
    }
   },
   "outputs": [
    {
     "name": "stdout",
     "output_type": "stream",
     "text": [
      "------Artificial Bee Colony algorithms starts------\n",
      "Parameter Information:\n",
      "population: 200 \n",
      "dimension: 100\n",
      "bounds: [0,1]\n",
      "max_iter_num: 30 \n",
      "algo_max_iter_num: 500 \n"
     ]
    }
   ],
   "source": [
    "# ABC parameter 100 assets\n",
    "my_population = int(20 * np.sqrt(100))\n",
    "my_MCN = int(1000 * 100 / my_population)\n",
    "my_parameter = ParameterInformation(my_population,100,0,1,30,my_MCN,0.5)\n",
    "\n",
    "# set extra parameter and mean_rtn/cov_rtn\n",
    "my_MR = 0.8\n",
    "\n",
    "# ABC POP\n",
    "pop_result = main(my_parameter,my_MR)\n",
    "pop_result = pop_result[0]\n",
    "\n",
    "#(pd.DataFrame.from_dict(data=result_dict, orient=\"index\")).to_csv(\n",
    "#   \"test1.csv\", header=False)"
   ]
  },
  {
   "cell_type": "code",
   "execution_count": 17,
   "id": "cd40d302",
   "metadata": {
    "ExecuteTime": {
     "end_time": "2024-01-10T07:37:25.019293Z",
     "start_time": "2024-01-10T07:37:24.986180Z"
    }
   },
   "outputs": [
    {
     "name": "stdout",
     "output_type": "stream",
     "text": [
      "[0.         0.0245545  0.         0.         0.0322782  0.\n",
      " 0.         0.         0.         0.         0.         0.\n",
      " 0.         0.         0.         0.         0.         0.\n",
      " 0.         0.         0.         0.         0.         0.\n",
      " 0.00113572 0.22842548 0.         0.         0.         0.\n",
      " 0.         0.         0.         0.         0.         0.\n",
      " 0.         0.         0.         0.         0.         0.\n",
      " 0.00730473 0.         0.         0.         0.         0.06952951\n",
      " 0.         0.         0.         0.         0.         0.\n",
      " 0.         0.         0.03232193 0.         0.         0.08218407\n",
      " 0.         0.         0.15540551 0.         0.         0.\n",
      " 0.         0.         0.         0.         0.1260746  0.\n",
      " 0.         0.         0.         0.         0.         0.\n",
      " 0.         0.         0.         0.         0.         0.\n",
      " 0.         0.         0.         0.         0.00135717 0.2272949\n",
      " 0.         0.         0.         0.         0.         0.01213367\n",
      " 0.         0.         0.         0.        ]\n",
      "[11.89758757 13.26425662]\n"
     ]
    }
   ],
   "source": [
    "# pop_result = np.reshape(pop_result[0], (15,1))\n",
    "pop_result = [ x/sum(pop_result) for x in pop_result]\n",
    "pop_result = np.array(pop_result)\n",
    "print(pop_result)\n",
    "\n",
    "# calculate annual return and risk\n",
    "print(cal_ann_return_risk(pop_result,SP_mean_rtn,SP_cov_rtn))"
   ]
  },
  {
   "cell_type": "code",
   "execution_count": 18,
   "id": "f2ff1db0",
   "metadata": {
    "ExecuteTime": {
     "end_time": "2024-01-10T07:37:43.057475Z",
     "start_time": "2024-01-10T07:37:43.052943Z"
    }
   },
   "outputs": [],
   "source": [
    "ann_rtn = np.dot(pop_result, SP_mean_rtn) * 251"
   ]
  },
  {
   "cell_type": "code",
   "execution_count": 19,
   "id": "a0ba78fb",
   "metadata": {
    "ExecuteTime": {
     "end_time": "2024-01-10T07:37:43.462258Z",
     "start_time": "2024-01-10T07:37:43.452220Z"
    }
   },
   "outputs": [
    {
     "data": {
      "text/plain": [
       "<function ndarray.flatten>"
      ]
     },
     "execution_count": 19,
     "metadata": {},
     "output_type": "execute_result"
    }
   ],
   "source": [
    "ann_rtn.flatten"
   ]
  },
  {
   "cell_type": "code",
   "execution_count": 20,
   "id": "a4aab69e",
   "metadata": {
    "ExecuteTime": {
     "end_time": "2024-01-10T07:37:44.012760Z",
     "start_time": "2024-01-10T07:37:43.992827Z"
    }
   },
   "outputs": [],
   "source": [
    "ann_risk = np.sqrt(np.dot(np.dot(pop_result, SP_cov_rtn),pop_result.T) * 251)"
   ]
  },
  {
   "cell_type": "code",
   "execution_count": 21,
   "id": "b717bbd7",
   "metadata": {
    "ExecuteTime": {
     "end_time": "2024-01-10T07:37:45.116559Z",
     "start_time": "2024-01-10T07:37:45.111584Z"
    }
   },
   "outputs": [
    {
     "data": {
      "text/plain": [
       "13.264256620094724"
      ]
     },
     "execution_count": 21,
     "metadata": {},
     "output_type": "execute_result"
    }
   ],
   "source": [
    "ann_risk"
   ]
  },
  {
   "cell_type": "code",
   "execution_count": null,
   "id": "aab13784",
   "metadata": {},
   "outputs": [],
   "source": []
  }
 ],
 "metadata": {
  "kernelspec": {
   "display_name": "Python 3 (ipykernel)",
   "language": "python",
   "name": "python3"
  },
  "language_info": {
   "codemirror_mode": {
    "name": "ipython",
    "version": 3
   },
   "file_extension": ".py",
   "mimetype": "text/x-python",
   "name": "python",
   "nbconvert_exporter": "python",
   "pygments_lexer": "ipython3",
   "version": "3.11.6"
  }
 },
 "nbformat": 4,
 "nbformat_minor": 5
}
