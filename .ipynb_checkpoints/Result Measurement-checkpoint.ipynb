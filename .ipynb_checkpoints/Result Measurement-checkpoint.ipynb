{
 "cells": [
  {
   "cell_type": "code",
   "execution_count": 3,
   "id": "e825c1ce",
   "metadata": {
    "ExecuteTime": {
     "end_time": "2024-06-14T07:36:05.049293Z",
     "start_time": "2024-06-14T07:36:04.205892Z"
    }
   },
   "outputs": [],
   "source": [
    "import numpy as np\n",
    "import pandas as pd"
   ]
  },
  {
   "cell_type": "markdown",
   "id": "aded3770",
   "metadata": {
    "ExecuteTime": {
     "end_time": "2024-06-14T07:35:03.214465Z",
     "start_time": "2024-06-14T07:35:03.200975Z"
    }
   },
   "source": [
    "<img src=\"images1/measurement.png\" alt=\"measurement\" style=\"float:left; height:400px; width:auto; border:1px solid black\">"
   ]
  },
  {
   "cell_type": "code",
   "execution_count": 2,
   "id": "928f7ef9",
   "metadata": {
    "ExecuteTime": {
     "end_time": "2024-06-14T07:35:43.502967Z",
     "start_time": "2024-06-14T07:35:43.491753Z"
    }
   },
   "outputs": [],
   "source": [
    "def difference(ucef,ccef):\n",
    "    diff = 0\n",
    "    x_diff_set = []\n",
    "    y_diff_set = []\n",
    "\n",
    "    sorted_ucef = np.array(sorted(ucef, key=lambda x: x[0]))\n",
    "    sorted_ucef2 = np.array(sorted(ucef, key=lambda x: x[1]))\n",
    "    y_values = sorted_ucef2[:, 1].astype(float)\n",
    "    \n",
    "\n",
    "    # 遍历第二个数组中的每个元素\n",
    "    for a, b in ccef:\n",
    "        \n",
    "        # xj and yj_alt / xk and yk_alt\n",
    "        # 二分查找大于a的最小x\n",
    "        idx = np.searchsorted(sorted_ucef[:, 0], a, side='right')\n",
    "\n",
    "        # 获取大于a的最小x及其对应的y\n",
    "        if idx < len(sorted_ucef):\n",
    "            xj, yj_alt = sorted_ucef[idx]\n",
    "        else:\n",
    "            xj, yj = a, b  # 如果不存在，返回None\n",
    "\n",
    "        # 二分查找小于a的最大x\n",
    "        idx_k = idx - 1\n",
    "\n",
    "        # 获取小于a的最大x及其对应的y\n",
    "        if idx_k >= 0:\n",
    "            xk, yk_alt = sorted_ucef[idx_k]\n",
    "        else:\n",
    "            xk, yk_alt = a, b  # 如果不存在，返回None\n",
    "            \n",
    "            \n",
    "        # yj xj_alt and yk xk_alt\n",
    "            \n",
    "        idx = np.searchsorted(y_values, b, side='right')\n",
    "        \n",
    "        # 获取大于 bi 的最小 y 及其对应的 x\n",
    "        if idx < len(sorted_ucef2):\n",
    "            xj_alt, yj = sorted_ucef2[idx]\n",
    "        else:\n",
    "            xj_alt, yj = a, b  # 如果不存在，返回 None\n",
    "        \n",
    "        # 二分查找小于 bi 的最大 y\n",
    "        idx_k = idx - 1\n",
    "        \n",
    "        # 获取小于 bi 的最大 y 及其对应的 x\n",
    "        if idx_k >= 0:\n",
    "            xk_alt, yk = sorted_ucef2[idx_k]\n",
    "        else:\n",
    "            xk_alt, yk = a, b  # 如果不存在，返回 None\n",
    "        \n",
    "        # y* : item[0] x* : item[1]\n",
    "        \n",
    "        x_ss = xk_alt + (xj_alt - xk_alt)*(a - yk)/(yj - yk)\n",
    "        y_ss = yk_alt + (yj_alt - yk_alt)*(b - xk)/(xj - xk)\n",
    "        \n",
    "        x_diff = abs(100 * (b - x_ss)/x_ss)\n",
    "        y_diff = abs(100 * (np.sqrt(a) - np.sqrt(y_ss))/y_ss)\n",
    "        \n",
    "        x_diff_set.append(x_diff)\n",
    "        y_diff_set.append(y_diff)\n",
    "    \n",
    "    return x_diff_set,y_diff_set   "
   ]
  },
  {
   "cell_type": "code",
   "execution_count": 4,
   "id": "aa07059a",
   "metadata": {
    "ExecuteTime": {
     "end_time": "2024-06-14T07:37:35.338432Z",
     "start_time": "2024-06-14T07:37:35.331896Z"
    }
   },
   "outputs": [],
   "source": [
    "def measurement(x_diff,y_diff):\n",
    "    \"\"\"\n",
    "    Calculate measurement\n",
    "    x_diff:risk_diff:standard deciation\n",
    "    y_diff:return_diff\n",
    "    \"\"\"\n",
    "    MEAPE = 0\n",
    "    MEDPE = 0\n",
    "    MINPE = 0\n",
    "    MAXPE = 0\n",
    "    for x,y in zip(x_diff,y_diff):\n",
    "        MEAPE += min(x,y)\n",
    "    MEAPE/=len(x_diff)\n",
    "    MEDPE = min(np.median(x_diff),np.median(y_diff))\n",
    "    MINPE = min(min(x_diff),min(y_diff))\n",
    "    MAXPE = max(max(x_diff),max(y_diff))\n",
    "\n",
    "    return MEAPE,MEDPE,MINPE,MAXPE"
   ]
  },
  {
   "cell_type": "code",
   "execution_count": 6,
   "id": "7731fa00",
   "metadata": {
    "ExecuteTime": {
     "end_time": "2024-06-14T08:02:01.446603Z",
     "start_time": "2024-06-14T08:02:01.438429Z"
    }
   },
   "outputs": [],
   "source": [
    "# acquire variable from other result\n",
    "\n",
    "# unconstrained efficient frontier\n",
    "%store -r ucef_set\n",
    "\n",
    "# sobel init and global search\n",
    "%store -r ef_set_2\n",
    "\n",
    "# genetic combined\n",
    "%store -r ef_set_3\n",
    "\n",
    "# original ABC\n",
    "%store -r ef_set_4"
   ]
  },
  {
   "cell_type": "code",
   "execution_count": 7,
   "id": "ddbdf8b3",
   "metadata": {
    "ExecuteTime": {
     "end_time": "2024-06-14T08:03:12.885190Z",
     "start_time": "2024-06-14T08:03:12.875230Z"
    }
   },
   "outputs": [],
   "source": [
    "x2,y2 = difference(ucef_set,ef_set_2)\n",
    "x3,y3 = difference(ucef_set,ef_set_3)\n",
    "x4,y4 = difference(ucef_set,ef_set_4)"
   ]
  },
  {
   "cell_type": "code",
   "execution_count": 8,
   "id": "b66063a7",
   "metadata": {
    "ExecuteTime": {
     "end_time": "2024-06-14T08:03:17.108848Z",
     "start_time": "2024-06-14T08:03:17.099989Z"
    }
   },
   "outputs": [
    {
     "name": "stdout",
     "output_type": "stream",
     "text": [
      "MEAPE:68.11106676429276\n",
      "MEDPE:64.90710655894347\n",
      "MINPE:5.712328678717425\n",
      "MAXPE:440.8497777593533\n"
     ]
    }
   ],
   "source": [
    "MEAPE,MEDPE,MINPE,MAXPE = measurement(x2,y2)\n",
    "print(f\"MEAPE:{MEAPE}\")\n",
    "print(f\"MEDPE:{MEDPE}\")\n",
    "print(f\"MINPE:{MINPE}\")\n",
    "print(f\"MAXPE:{MAXPE}\")"
   ]
  },
  {
   "cell_type": "code",
   "execution_count": 9,
   "id": "451cd927",
   "metadata": {
    "ExecuteTime": {
     "end_time": "2024-06-14T08:03:29.086012Z",
     "start_time": "2024-06-14T08:03:29.080928Z"
    }
   },
   "outputs": [
    {
     "name": "stdout",
     "output_type": "stream",
     "text": [
      "MEAPE:67.30442834042654\n",
      "MEDPE:63.201312330790145\n",
      "MINPE:4.1464362440548985\n",
      "MAXPE:442.7745109065675\n"
     ]
    }
   ],
   "source": [
    "MEAPE,MEDPE,MINPE,MAXPE = measurement(x3,y3)\n",
    "print(f\"MEAPE:{MEAPE}\")\n",
    "print(f\"MEDPE:{MEDPE}\")\n",
    "print(f\"MINPE:{MINPE}\")\n",
    "print(f\"MAXPE:{MAXPE}\")"
   ]
  },
  {
   "cell_type": "code",
   "execution_count": 10,
   "id": "8a57c3a8",
   "metadata": {
    "ExecuteTime": {
     "end_time": "2024-06-14T08:03:34.931569Z",
     "start_time": "2024-06-14T08:03:34.925279Z"
    }
   },
   "outputs": [
    {
     "name": "stdout",
     "output_type": "stream",
     "text": [
      "MEAPE:68.03415261642306\n",
      "MEDPE:64.15989351396847\n",
      "MINPE:0.37482738085615863\n",
      "MAXPE:440.25488862083\n"
     ]
    }
   ],
   "source": [
    "MEAPE,MEDPE,MINPE,MAXPE = measurement(x4,y4)\n",
    "print(f\"MEAPE:{MEAPE}\")\n",
    "print(f\"MEDPE:{MEDPE}\")\n",
    "print(f\"MINPE:{MINPE}\")\n",
    "print(f\"MAXPE:{MAXPE}\")"
   ]
  }
 ],
 "metadata": {
  "kernelspec": {
   "display_name": "Python 3 (ipykernel)",
   "language": "python",
   "name": "python3"
  },
  "language_info": {
   "codemirror_mode": {
    "name": "ipython",
    "version": 3
   },
   "file_extension": ".py",
   "mimetype": "text/x-python",
   "name": "python",
   "nbconvert_exporter": "python",
   "pygments_lexer": "ipython3",
   "version": "3.11.6"
  }
 },
 "nbformat": 4,
 "nbformat_minor": 5
}
