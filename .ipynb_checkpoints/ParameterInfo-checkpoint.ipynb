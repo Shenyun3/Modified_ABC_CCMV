{
 "cells": [
  {
   "cell_type": "code",
   "execution_count": null,
   "id": "0deb5ecb",
   "metadata": {},
   "outputs": [],
   "source": [
    "# Parameter Class\n",
    "\n",
    "class ParameterInformation:\n",
    "    \"\"\"\n",
    "    store algorithm's parameter:\n",
    "    population: amount of bees = employed bees = onlooking bees\n",
    "    max_bound: upper bound of one gene on chromosome\n",
    "    min_bound: lower bound of one gene on chromosome\n",
    "    max_iter_num: max iteration times of each nectar\n",
    "    algo_iter_num: current iteration times of the algorithm \n",
    "    max_algo_iter_num: max iteration times of the algorithm\n",
    "    risk_averse_para: risk aversion parameter of investor\n",
    "    \"\"\"\n",
    "    population = 0\n",
    "    dimension = 0\n",
    "    max_bound = 0\n",
    "    min_bound = 0\n",
    "    max_iter_num = 0\n",
    "    algo_iter_num = 0\n",
    "    algo_max_iter_num = 0\n",
    "    risk_averse_para = 0\n",
    "\n",
    "    def __init__(self, population, dimension, min_bound, max_bound, max_iter_num, algo_max_iter_num, risk_averse_para):\n",
    "        self.population = population\n",
    "        self.dimension = dimension\n",
    "        self.max_bound = max_bound\n",
    "        self.min_bound = min_bound\n",
    "        self.max_iter_num = max_iter_num\n",
    "        self.algo_max_iter_num = algo_max_iter_num\n",
    "        self.risk_averse_para = risk_averse_para\n",
    "\n",
    "    def set_algo_iter_num(self, value):\n",
    "        \"\"\"set algorithm's iteration number\"\"\"\n",
    "        self.algo_iter_num = value\n",
    "\n",
    "    def show_parameter(self):\n",
    "        \"\"\"show parameter\"\"\"\n",
    "        print(\"Parameter Information:\")\n",
    "        print(f\"population: {self.population} \")\n",
    "        print(f\"dimension: {self.dimension}\")\n",
    "        print(f\"bounds: [{self.min_bound},{self.max_bound}]\")\n",
    "        #print(\"max_iter_num: %s \" % self.max_iter_num)\n",
    "        #print(\"algo_max_iter_num: %s \" % self.algo_max_iter_num)"
   ]
  }
 ],
 "metadata": {
  "kernelspec": {
   "display_name": "Python 3 (ipykernel)",
   "language": "python",
   "name": "python3"
  },
  "language_info": {
   "codemirror_mode": {
    "name": "ipython",
    "version": 3
   },
   "file_extension": ".py",
   "mimetype": "text/x-python",
   "name": "python",
   "nbconvert_exporter": "python",
   "pygments_lexer": "ipython3",
   "version": "3.11.6"
  }
 },
 "nbformat": 4,
 "nbformat_minor": 5
}
