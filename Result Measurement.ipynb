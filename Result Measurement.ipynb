{
 "cells": [
  {
   "cell_type": "code",
   "execution_count": 13,
   "id": "e825c1ce",
   "metadata": {
    "ExecuteTime": {
     "end_time": "2024-06-18T07:57:20.574539Z",
     "start_time": "2024-06-18T07:57:20.569714Z"
    }
   },
   "outputs": [],
   "source": [
    "import numpy as np\n",
    "import pandas as pd"
   ]
  },
  {
   "cell_type": "markdown",
   "id": "aded3770",
   "metadata": {
    "ExecuteTime": {
     "end_time": "2024-06-14T07:35:03.214465Z",
     "start_time": "2024-06-14T07:35:03.200975Z"
    }
   },
   "source": [
    "<img src=\"images1/measurement.png\" alt=\"measurement\" style=\"float:left; height:400px; width:auto; border:1px solid black\">"
   ]
  },
  {
   "cell_type": "code",
   "execution_count": 14,
   "id": "928f7ef9",
   "metadata": {
    "ExecuteTime": {
     "end_time": "2024-06-18T07:57:21.452196Z",
     "start_time": "2024-06-18T07:57:21.440522Z"
    }
   },
   "outputs": [],
   "source": [
    "def difference(ucef,ccef):\n",
    "    diff = 0\n",
    "    x_diff_set = []\n",
    "    y_diff_set = []\n",
    "\n",
    "    sorted_ucef = np.array(sorted(ucef, key=lambda x: x[0]))\n",
    "    sorted_ucef2 = np.array(sorted(ucef, key=lambda x: x[1]))\n",
    "    y_values = sorted_ucef2[:, 1].astype(float)\n",
    "    \n",
    "\n",
    "    # 遍历第二个数组中的每个元素\n",
    "    for a, b in ccef:\n",
    "        \n",
    "        # xj and yj_alt / xk and yk_alt\n",
    "        # 二分查找大于a的最小x\n",
    "        idx = np.searchsorted(sorted_ucef[:, 0], a, side='right')\n",
    "\n",
    "        # 获取大于a的最小x及其对应的y\n",
    "        if idx < len(sorted_ucef):\n",
    "            xj, yj_alt = sorted_ucef[idx]\n",
    "        else:\n",
    "            xj, yj = a, b  # 如果不存在，返回None\n",
    "\n",
    "        # 二分查找小于a的最大x\n",
    "        idx_k = idx - 1\n",
    "\n",
    "        # 获取小于a的最大x及其对应的y\n",
    "        if idx_k >= 0:\n",
    "            xk, yk_alt = sorted_ucef[idx_k]\n",
    "        else:\n",
    "            xk, yk_alt = a, b  # 如果不存在，返回None\n",
    "            \n",
    "            \n",
    "        # yj xj_alt and yk xk_alt\n",
    "            \n",
    "        idx = np.searchsorted(y_values, b, side='right')\n",
    "        \n",
    "        # 获取大于 bi 的最小 y 及其对应的 x\n",
    "        if idx < len(sorted_ucef2):\n",
    "            xj_alt, yj = sorted_ucef2[idx]\n",
    "        else:\n",
    "            xj_alt, yj = a, b  # 如果不存在，返回 None\n",
    "        \n",
    "        # 二分查找小于 bi 的最大 y\n",
    "        idx_k = idx - 1\n",
    "        \n",
    "        # 获取小于 bi 的最大 y 及其对应的 x\n",
    "        if idx_k >= 0:\n",
    "            xk_alt, yk = sorted_ucef2[idx_k]\n",
    "        else:\n",
    "            xk_alt, yk = a, b  # 如果不存在，返回 None\n",
    "        \n",
    "        # y* : item[0] x* : item[1]\n",
    "        \n",
    "        x_ss = xk_alt + (xj_alt - xk_alt)*(a - yk)/(yj - yk)\n",
    "        y_ss = yk_alt + (yj_alt - yk_alt)*(b - xk)/(xj - xk)\n",
    "        \n",
    "        x_diff = abs(100 * (b - x_ss)/x_ss)\n",
    "        y_diff = abs(100 * (np.sqrt(a) - np.sqrt(y_ss))/y_ss)\n",
    "        \n",
    "        x_diff_set.append(x_diff)\n",
    "        y_diff_set.append(y_diff)\n",
    "    \n",
    "    return x_diff_set,y_diff_set   "
   ]
  },
  {
   "cell_type": "code",
   "execution_count": 15,
   "id": "aa07059a",
   "metadata": {
    "ExecuteTime": {
     "end_time": "2024-06-18T07:57:22.007626Z",
     "start_time": "2024-06-18T07:57:21.999530Z"
    }
   },
   "outputs": [],
   "source": [
    "def measurement(x_diff,y_diff):\n",
    "    \"\"\"\n",
    "    Calculate measurement\n",
    "    x_diff:risk_diff:standard deciation\n",
    "    y_diff:return_diff\n",
    "    \"\"\"\n",
    "    MEAPE = 0\n",
    "    MEDPE = 0\n",
    "    MINPE = 0\n",
    "    MAXPE = 0\n",
    "    for x,y in zip(x_diff,y_diff):\n",
    "        MEAPE += min(x,y)\n",
    "    MEAPE/=len(x_diff)\n",
    "    MEDPE = min(np.median(x_diff),np.median(y_diff))\n",
    "    MINPE = min(min(x_diff),min(y_diff))\n",
    "    MAXPE = max(max(x_diff),max(y_diff))\n",
    "\n",
    "    return MEAPE,MEDPE,MINPE,MAXPE"
   ]
  },
  {
   "cell_type": "code",
   "execution_count": 16,
   "id": "7731fa00",
   "metadata": {
    "ExecuteTime": {
     "end_time": "2024-06-18T07:57:23.112726Z",
     "start_time": "2024-06-18T07:57:23.104223Z"
    }
   },
   "outputs": [],
   "source": [
    "# acquire variable from other result\n",
    "\n",
    "# unconstrained efficient frontier\n",
    "%store -r ucef_set\n",
    "\n",
    "# sobel init and global search\n",
    "%store -r ef_set_2\n",
    "\n",
    "# genetic combined\n",
    "%store -r ef_set_3\n",
    "\n",
    "# original ABC\n",
    "%store -r ef_set_4\n",
    "\n",
    "# 3-step global search + sobel\n",
    "%store -r ef_set_5"
   ]
  },
  {
   "cell_type": "code",
   "execution_count": 17,
   "id": "ddbdf8b3",
   "metadata": {
    "ExecuteTime": {
     "end_time": "2024-06-18T07:57:24.701465Z",
     "start_time": "2024-06-18T07:57:24.690185Z"
    }
   },
   "outputs": [
    {
     "name": "stderr",
     "output_type": "stream",
     "text": [
      "/var/folders/m1/4q4yssq14xlgyf98rcxtncwc0000gn/T/ipykernel_6624/1332155460.py:59: RuntimeWarning: invalid value encountered in sqrt\n",
      "  y_diff = abs(100 * (np.sqrt(a) - np.sqrt(y_ss))/y_ss)\n"
     ]
    }
   ],
   "source": [
    "x2,y2 = difference(ucef_set,ef_set_2)\n",
    "x3,y3 = difference(ucef_set,ef_set_3)\n",
    "x4,y4 = difference(ucef_set,ef_set_4)\n",
    "x5,y5 = difference(ucef_set,ef_set_5)"
   ]
  },
  {
   "cell_type": "code",
   "execution_count": 18,
   "id": "b66063a7",
   "metadata": {
    "ExecuteTime": {
     "end_time": "2024-06-18T07:57:28.370922Z",
     "start_time": "2024-06-18T07:57:28.362244Z"
    }
   },
   "outputs": [
    {
     "name": "stdout",
     "output_type": "stream",
     "text": [
      "MEAPE:61.784372626975674\n",
      "MEDPE:55.17605768704772\n",
      "MINPE:53.51259104211573\n",
      "MAXPE:85.29560360717335\n"
     ]
    }
   ],
   "source": [
    "MEAPE,MEDPE,MINPE,MAXPE = measurement(x2,y2)\n",
    "print(f\"MEAPE:{MEAPE}\")\n",
    "print(f\"MEDPE:{MEDPE}\")\n",
    "print(f\"MINPE:{MINPE}\")\n",
    "print(f\"MAXPE:{MAXPE}\")"
   ]
  },
  {
   "cell_type": "code",
   "execution_count": 19,
   "id": "451cd927",
   "metadata": {
    "ExecuteTime": {
     "end_time": "2024-06-18T07:57:31.405593Z",
     "start_time": "2024-06-18T07:57:31.399303Z"
    }
   },
   "outputs": [
    {
     "name": "stdout",
     "output_type": "stream",
     "text": [
      "MEAPE:59.04418875300313\n",
      "MEDPE:53.99205267223803\n",
      "MINPE:52.937781697325825\n",
      "MAXPE:85.64491502415426\n"
     ]
    }
   ],
   "source": [
    "MEAPE,MEDPE,MINPE,MAXPE = measurement(x3,y3)\n",
    "print(f\"MEAPE:{MEAPE}\")\n",
    "print(f\"MEDPE:{MEDPE}\")\n",
    "print(f\"MINPE:{MINPE}\")\n",
    "print(f\"MAXPE:{MAXPE}\")"
   ]
  },
  {
   "cell_type": "code",
   "execution_count": 20,
   "id": "8a57c3a8",
   "metadata": {
    "ExecuteTime": {
     "end_time": "2024-06-18T07:57:33.804361Z",
     "start_time": "2024-06-18T07:57:33.798936Z"
    }
   },
   "outputs": [
    {
     "name": "stdout",
     "output_type": "stream",
     "text": [
      "MEAPE:60.011923348382865\n",
      "MEDPE:54.48255587835391\n",
      "MINPE:50.04781748966128\n",
      "MAXPE:89.26179557772636\n"
     ]
    }
   ],
   "source": [
    "MEAPE,MEDPE,MINPE,MAXPE = measurement(x4,y4)\n",
    "print(f\"MEAPE:{MEAPE}\")\n",
    "print(f\"MEDPE:{MEDPE}\")\n",
    "print(f\"MINPE:{MINPE}\")\n",
    "print(f\"MAXPE:{MAXPE}\")"
   ]
  },
  {
   "cell_type": "code",
   "execution_count": 21,
   "id": "e52e09b1",
   "metadata": {
    "ExecuteTime": {
     "end_time": "2024-06-18T07:57:35.982873Z",
     "start_time": "2024-06-18T07:57:35.975523Z"
    }
   },
   "outputs": [
    {
     "name": "stdout",
     "output_type": "stream",
     "text": [
      "MEAPE:60.94228706810095\n",
      "MEDPE:58.333698378270014\n",
      "MINPE:53.082218835218555\n",
      "MAXPE:85.38058289831363\n"
     ]
    }
   ],
   "source": [
    "MEAPE,MEDPE,MINPE,MAXPE = measurement(x5,y5)\n",
    "print(f\"MEAPE:{MEAPE}\")\n",
    "print(f\"MEDPE:{MEDPE}\")\n",
    "print(f\"MINPE:{MINPE}\")\n",
    "print(f\"MAXPE:{MAXPE}\")"
   ]
  },
  {
   "cell_type": "code",
   "execution_count": null,
   "id": "7b082aa1",
   "metadata": {},
   "outputs": [],
   "source": []
  }
 ],
 "metadata": {
  "kernelspec": {
   "display_name": "Python 3 (ipykernel)",
   "language": "python",
   "name": "python3"
  },
  "language_info": {
   "codemirror_mode": {
    "name": "ipython",
    "version": 3
   },
   "file_extension": ".py",
   "mimetype": "text/x-python",
   "name": "python",
   "nbconvert_exporter": "python",
   "pygments_lexer": "ipython3",
   "version": "3.11.6"
  },
  "varInspector": {
   "cols": {
    "lenName": 16,
    "lenType": 16,
    "lenVar": 40
   },
   "kernels_config": {
    "python": {
     "delete_cmd_postfix": "",
     "delete_cmd_prefix": "del ",
     "library": "var_list.py",
     "varRefreshCmd": "print(var_dic_list())"
    },
    "r": {
     "delete_cmd_postfix": ") ",
     "delete_cmd_prefix": "rm(",
     "library": "var_list.r",
     "varRefreshCmd": "cat(var_dic_list()) "
    }
   },
   "types_to_exclude": [
    "module",
    "function",
    "builtin_function_or_method",
    "instance",
    "_Feature"
   ],
   "window_display": false
  }
 },
 "nbformat": 4,
 "nbformat_minor": 5
}
