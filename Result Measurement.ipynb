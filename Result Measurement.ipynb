{
 "cells": [
  {
   "cell_type": "code",
   "execution_count": 1,
   "id": "e825c1ce",
   "metadata": {
    "ExecuteTime": {
     "end_time": "2024-06-17T12:47:11.807759Z",
     "start_time": "2024-06-17T12:47:11.421629Z"
    }
   },
   "outputs": [],
   "source": [
    "import numpy as np\n",
    "import pandas as pd"
   ]
  },
  {
   "cell_type": "markdown",
   "id": "aded3770",
   "metadata": {
    "ExecuteTime": {
     "end_time": "2024-06-14T07:35:03.214465Z",
     "start_time": "2024-06-14T07:35:03.200975Z"
    }
   },
   "source": [
    "<img src=\"images1/measurement.png\" alt=\"measurement\" style=\"float:left; height:400px; width:auto; border:1px solid black\">"
   ]
  },
  {
   "cell_type": "code",
   "execution_count": 2,
   "id": "928f7ef9",
   "metadata": {
    "ExecuteTime": {
     "end_time": "2024-06-17T12:47:12.359276Z",
     "start_time": "2024-06-17T12:47:12.346278Z"
    }
   },
   "outputs": [],
   "source": [
    "def difference(ucef,ccef):\n",
    "    diff = 0\n",
    "    x_diff_set = []\n",
    "    y_diff_set = []\n",
    "\n",
    "    sorted_ucef = np.array(sorted(ucef, key=lambda x: x[0]))\n",
    "    sorted_ucef2 = np.array(sorted(ucef, key=lambda x: x[1]))\n",
    "    y_values = sorted_ucef2[:, 1].astype(float)\n",
    "    \n",
    "\n",
    "    # 遍历第二个数组中的每个元素\n",
    "    for a, b in ccef:\n",
    "        \n",
    "        # xj and yj_alt / xk and yk_alt\n",
    "        # 二分查找大于a的最小x\n",
    "        idx = np.searchsorted(sorted_ucef[:, 0], a, side='right')\n",
    "\n",
    "        # 获取大于a的最小x及其对应的y\n",
    "        if idx < len(sorted_ucef):\n",
    "            xj, yj_alt = sorted_ucef[idx]\n",
    "        else:\n",
    "            xj, yj = a, b  # 如果不存在，返回None\n",
    "\n",
    "        # 二分查找小于a的最大x\n",
    "        idx_k = idx - 1\n",
    "\n",
    "        # 获取小于a的最大x及其对应的y\n",
    "        if idx_k >= 0:\n",
    "            xk, yk_alt = sorted_ucef[idx_k]\n",
    "        else:\n",
    "            xk, yk_alt = a, b  # 如果不存在，返回None\n",
    "            \n",
    "            \n",
    "        # yj xj_alt and yk xk_alt\n",
    "            \n",
    "        idx = np.searchsorted(y_values, b, side='right')\n",
    "        \n",
    "        # 获取大于 bi 的最小 y 及其对应的 x\n",
    "        if idx < len(sorted_ucef2):\n",
    "            xj_alt, yj = sorted_ucef2[idx]\n",
    "        else:\n",
    "            xj_alt, yj = a, b  # 如果不存在，返回 None\n",
    "        \n",
    "        # 二分查找小于 bi 的最大 y\n",
    "        idx_k = idx - 1\n",
    "        \n",
    "        # 获取小于 bi 的最大 y 及其对应的 x\n",
    "        if idx_k >= 0:\n",
    "            xk_alt, yk = sorted_ucef2[idx_k]\n",
    "        else:\n",
    "            xk_alt, yk = a, b  # 如果不存在，返回 None\n",
    "        \n",
    "        # y* : item[0] x* : item[1]\n",
    "        \n",
    "        x_ss = xk_alt + (xj_alt - xk_alt)*(a - yk)/(yj - yk)\n",
    "        y_ss = yk_alt + (yj_alt - yk_alt)*(b - xk)/(xj - xk)\n",
    "        \n",
    "        x_diff = abs(100 * (b - x_ss)/x_ss)\n",
    "        y_diff = abs(100 * (np.sqrt(a) - np.sqrt(y_ss))/y_ss)\n",
    "        \n",
    "        x_diff_set.append(x_diff)\n",
    "        y_diff_set.append(y_diff)\n",
    "    \n",
    "    return x_diff_set,y_diff_set   "
   ]
  },
  {
   "cell_type": "code",
   "execution_count": 3,
   "id": "aa07059a",
   "metadata": {
    "ExecuteTime": {
     "end_time": "2024-06-17T12:47:12.985973Z",
     "start_time": "2024-06-17T12:47:12.979157Z"
    }
   },
   "outputs": [],
   "source": [
    "def measurement(x_diff,y_diff):\n",
    "    \"\"\"\n",
    "    Calculate measurement\n",
    "    x_diff:risk_diff:standard deciation\n",
    "    y_diff:return_diff\n",
    "    \"\"\"\n",
    "    MEAPE = 0\n",
    "    MEDPE = 0\n",
    "    MINPE = 0\n",
    "    MAXPE = 0\n",
    "    for x,y in zip(x_diff,y_diff):\n",
    "        MEAPE += min(x,y)\n",
    "    MEAPE/=len(x_diff)\n",
    "    MEDPE = min(np.median(x_diff),np.median(y_diff))\n",
    "    MINPE = min(min(x_diff),min(y_diff))\n",
    "    MAXPE = max(max(x_diff),max(y_diff))\n",
    "\n",
    "    return MEAPE,MEDPE,MINPE,MAXPE"
   ]
  },
  {
   "cell_type": "code",
   "execution_count": 4,
   "id": "7731fa00",
   "metadata": {
    "ExecuteTime": {
     "end_time": "2024-06-17T12:47:37.417482Z",
     "start_time": "2024-06-17T12:47:37.405493Z"
    }
   },
   "outputs": [],
   "source": [
    "# acquire variable from other result\n",
    "\n",
    "# unconstrained efficient frontier\n",
    "%store -r ucef_set\n",
    "\n",
    "# sobel init and global search\n",
    "%store -r ef_set_2\n",
    "\n",
    "# genetic combined\n",
    "%store -r ef_set_3\n",
    "\n",
    "# original ABC\n",
    "%store -r ef_set_4\n",
    "\n",
    "# 3-step global search + sobel\n",
    "%store -r ef_set_5"
   ]
  },
  {
   "cell_type": "code",
   "execution_count": 5,
   "id": "ddbdf8b3",
   "metadata": {
    "ExecuteTime": {
     "end_time": "2024-06-17T12:47:53.497858Z",
     "start_time": "2024-06-17T12:47:53.480524Z"
    }
   },
   "outputs": [],
   "source": [
    "x2,y2 = difference(ucef_set,ef_set_2)\n",
    "x3,y3 = difference(ucef_set,ef_set_3)\n",
    "x4,y4 = difference(ucef_set,ef_set_4)\n",
    "x5,y5 = difference(ucef_set,ef_set_5)"
   ]
  },
  {
   "cell_type": "code",
   "execution_count": 6,
   "id": "b66063a7",
   "metadata": {
    "ExecuteTime": {
     "end_time": "2024-06-17T12:47:57.160063Z",
     "start_time": "2024-06-17T12:47:57.151968Z"
    }
   },
   "outputs": [
    {
     "name": "stdout",
     "output_type": "stream",
     "text": [
      "MEAPE:68.11106676429276\n",
      "MEDPE:64.90710655894347\n",
      "MINPE:5.712328678717425\n",
      "MAXPE:440.8497777593533\n"
     ]
    }
   ],
   "source": [
    "MEAPE,MEDPE,MINPE,MAXPE = measurement(x2,y2)\n",
    "print(f\"MEAPE:{MEAPE}\")\n",
    "print(f\"MEDPE:{MEDPE}\")\n",
    "print(f\"MINPE:{MINPE}\")\n",
    "print(f\"MAXPE:{MAXPE}\")"
   ]
  },
  {
   "cell_type": "code",
   "execution_count": 7,
   "id": "451cd927",
   "metadata": {
    "ExecuteTime": {
     "end_time": "2024-06-17T12:47:57.642894Z",
     "start_time": "2024-06-17T12:47:57.636102Z"
    }
   },
   "outputs": [
    {
     "name": "stdout",
     "output_type": "stream",
     "text": [
      "MEAPE:67.30442834042654\n",
      "MEDPE:63.201312330790145\n",
      "MINPE:4.1464362440548985\n",
      "MAXPE:442.7745109065675\n"
     ]
    }
   ],
   "source": [
    "MEAPE,MEDPE,MINPE,MAXPE = measurement(x3,y3)\n",
    "print(f\"MEAPE:{MEAPE}\")\n",
    "print(f\"MEDPE:{MEDPE}\")\n",
    "print(f\"MINPE:{MINPE}\")\n",
    "print(f\"MAXPE:{MAXPE}\")"
   ]
  },
  {
   "cell_type": "code",
   "execution_count": 8,
   "id": "8a57c3a8",
   "metadata": {
    "ExecuteTime": {
     "end_time": "2024-06-17T12:47:58.636847Z",
     "start_time": "2024-06-17T12:47:58.631407Z"
    }
   },
   "outputs": [
    {
     "name": "stdout",
     "output_type": "stream",
     "text": [
      "MEAPE:68.03415261642306\n",
      "MEDPE:64.15989351396847\n",
      "MINPE:0.37482738085615863\n",
      "MAXPE:440.25488862083\n"
     ]
    }
   ],
   "source": [
    "MEAPE,MEDPE,MINPE,MAXPE = measurement(x4,y4)\n",
    "print(f\"MEAPE:{MEAPE}\")\n",
    "print(f\"MEDPE:{MEDPE}\")\n",
    "print(f\"MINPE:{MINPE}\")\n",
    "print(f\"MAXPE:{MAXPE}\")"
   ]
  },
  {
   "cell_type": "code",
   "execution_count": 9,
   "id": "58df655a",
   "metadata": {
    "ExecuteTime": {
     "end_time": "2024-06-17T12:48:07.261043Z",
     "start_time": "2024-06-17T12:48:07.254913Z"
    }
   },
   "outputs": [
    {
     "name": "stdout",
     "output_type": "stream",
     "text": [
      "MEAPE:68.3339107954638\n",
      "MEDPE:68.43581825030878\n",
      "MINPE:6.661180787882252\n",
      "MAXPE:477.5887726559122\n"
     ]
    }
   ],
   "source": [
    "MEAPE,MEDPE,MINPE,MAXPE = measurement(x5,y5)\n",
    "print(f\"MEAPE:{MEAPE}\")\n",
    "print(f\"MEDPE:{MEDPE}\")\n",
    "print(f\"MINPE:{MINPE}\")\n",
    "print(f\"MAXPE:{MAXPE}\")"
   ]
  },
  {
   "cell_type": "code",
   "execution_count": null,
   "id": "c364629d",
   "metadata": {},
   "outputs": [],
   "source": []
  }
 ],
 "metadata": {
  "kernelspec": {
   "display_name": "Python 3 (ipykernel)",
   "language": "python",
   "name": "python3"
  },
  "language_info": {
   "codemirror_mode": {
    "name": "ipython",
    "version": 3
   },
   "file_extension": ".py",
   "mimetype": "text/x-python",
   "name": "python",
   "nbconvert_exporter": "python",
   "pygments_lexer": "ipython3",
   "version": "3.11.6"
  },
  "varInspector": {
   "cols": {
    "lenName": 16,
    "lenType": 16,
    "lenVar": 40
   },
   "kernels_config": {
    "python": {
     "delete_cmd_postfix": "",
     "delete_cmd_prefix": "del ",
     "library": "var_list.py",
     "varRefreshCmd": "print(var_dic_list())"
    },
    "r": {
     "delete_cmd_postfix": ") ",
     "delete_cmd_prefix": "rm(",
     "library": "var_list.r",
     "varRefreshCmd": "cat(var_dic_list()) "
    }
   },
   "types_to_exclude": [
    "module",
    "function",
    "builtin_function_or_method",
    "instance",
    "_Feature"
   ],
   "window_display": false
  }
 },
 "nbformat": 4,
 "nbformat_minor": 5
}
