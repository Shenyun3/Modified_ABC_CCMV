{
 "cells": [
  {
   "cell_type": "code",
   "execution_count": 13,
   "id": "e825c1ce",
   "metadata": {
    "ExecuteTime": {
     "end_time": "2024-06-18T07:57:20.574539Z",
     "start_time": "2024-06-18T07:57:20.569714Z"
    }
   },
   "outputs": [],
   "source": [
    "import numpy as np\n",
    "import pandas as pd"
   ]
  },
  {
   "cell_type": "markdown",
   "id": "aded3770",
   "metadata": {
    "ExecuteTime": {
     "end_time": "2024-06-14T07:35:03.214465Z",
     "start_time": "2024-06-14T07:35:03.200975Z"
    }
   },
   "source": [
    "<img src=\"images1/measurement.png\" alt=\"measurement\" style=\"float:left; height:400px; width:auto; border:1px solid black\">"
   ]
  },
  {
   "cell_type": "code",
   "execution_count": 58,
   "id": "928f7ef9",
   "metadata": {
    "ExecuteTime": {
     "end_time": "2024-06-20T12:35:13.749672Z",
     "start_time": "2024-06-20T12:35:13.736851Z"
    }
   },
   "outputs": [],
   "source": [
    "def difference(ucef,ccef):\n",
    "    diff = 0\n",
    "    x_diff_set = []\n",
    "    y_diff_set = []\n",
    "\n",
    "    sorted_ucef = np.array(sorted(ucef, key=lambda x: x[0]))\n",
    "    sorted_ucef2 = np.array(sorted(ucef, key=lambda x: x[1]))\n",
    "    y_values = sorted_ucef2[:, 1].astype(float)\n",
    "    \n",
    "\n",
    "    # 遍历第二个数组中的每个元素\n",
    "    for a, b in ccef:\n",
    "        \n",
    "        # xj and yj_alt / xk and yk_alt\n",
    "        # 二分查找大于a的最小x\n",
    "        idx = np.searchsorted(sorted_ucef[:, 0], a, side='right')\n",
    "\n",
    "        # 获取大于a的最小x及其对应的y\n",
    "        if idx < len(sorted_ucef):\n",
    "            xj, yj_alt = sorted_ucef[idx]\n",
    "        else:\n",
    "            xj, yj = a, b  # 如果不存在，返回None\n",
    "\n",
    "        # 二分查找小于a的最大x\n",
    "        idx_k = idx - 1\n",
    "\n",
    "        # 获取小于a的最大x及其对应的y\n",
    "        if idx_k >= 0:\n",
    "            xk, yk_alt = sorted_ucef[idx_k]\n",
    "        else:\n",
    "            xk, yk_alt = a, b  # 如果不存在，返回None\n",
    "            \n",
    "            \n",
    "        # yj xj_alt and yk xk_alt\n",
    "            \n",
    "        idx = np.searchsorted(y_values, b, side='right')\n",
    "        \n",
    "        # 获取大于 bi 的最小 y 及其对应的 x\n",
    "        if idx < len(sorted_ucef2):\n",
    "            xj_alt, yj = sorted_ucef2[idx]\n",
    "        else:\n",
    "            xj_alt, yj = a, b  # 如果不存在，返回 None\n",
    "        \n",
    "        # 二分查找小于 bi 的最大 y\n",
    "        idx_k = idx - 1\n",
    "        \n",
    "        # 获取小于 bi 的最大 y 及其对应的 x\n",
    "        if idx_k >= 0:\n",
    "            xk_alt, yk = sorted_ucef2[idx_k]\n",
    "        else:\n",
    "            xk_alt, yk = a, b  # 如果不存在，返回 None\n",
    "        \n",
    "        # y* : item[0] x* : item[1]\n",
    "        \n",
    "        x_ss = xk_alt + (xj_alt - xk_alt)*(a - yk)/(yj - yk)\n",
    "        y_ss = yk_alt + (yj_alt - yk_alt)*(b - xk)/(xj - xk)\n",
    "        \n",
    "        x_diff = abs(100 * (b - x_ss)/x_ss)\n",
    "        y_diff = abs(100 * (a - y_ss)/y_ss)\n",
    "        \n",
    "        x_diff_set.append(x_diff)\n",
    "        y_diff_set.append(y_diff)\n",
    "    \n",
    "    return x_diff_set,y_diff_set   "
   ]
  },
  {
   "cell_type": "code",
   "execution_count": 54,
   "id": "80ec59e6",
   "metadata": {
    "ExecuteTime": {
     "end_time": "2024-06-20T12:18:37.008821Z",
     "start_time": "2024-06-20T12:18:37.005724Z"
    }
   },
   "outputs": [],
   "source": [
    "ucef = ucef_set"
   ]
  },
  {
   "cell_type": "code",
   "execution_count": 77,
   "id": "a4bdfe09",
   "metadata": {
    "ExecuteTime": {
     "end_time": "2024-06-20T12:50:14.474157Z",
     "start_time": "2024-06-20T12:50:14.451473Z"
    }
   },
   "outputs": [
    {
     "ename": "TypeError",
     "evalue": "list indices must be integers or slices, not tuple",
     "output_type": "error",
     "traceback": [
      "\u001b[0;31m---------------------------------------------------------------------------\u001b[0m",
      "\u001b[0;31mTypeError\u001b[0m                                 Traceback (most recent call last)",
      "Cell \u001b[0;32mIn[77], line 1\u001b[0m\n\u001b[0;32m----> 1\u001b[0m ef_set_3[:,\u001b[38;5;241m1\u001b[39m]\n",
      "\u001b[0;31mTypeError\u001b[0m: list indices must be integers or slices, not tuple"
     ]
    }
   ],
   "source": [
    "ef_set_3[:,1]"
   ]
  },
  {
   "cell_type": "code",
   "execution_count": 57,
   "id": "a11e3ffb",
   "metadata": {
    "ExecuteTime": {
     "end_time": "2024-06-20T12:23:26.669708Z",
     "start_time": "2024-06-20T12:23:26.660149Z"
    }
   },
   "outputs": [
    {
     "data": {
      "text/plain": [
       "array([[0.11713442, 0.10035235],\n",
       "       [0.20765486, 0.10578981],\n",
       "       [0.27455494, 0.11744573],\n",
       "       [0.3095673 , 0.12692874],\n",
       "       [0.32953996, 0.13414796],\n",
       "       [0.33500464, 0.13675408],\n",
       "       [0.34079659, 0.14015352],\n",
       "       [0.34694615, 0.14442954],\n",
       "       [0.35348746, 0.14966663],\n",
       "       [0.35939957, 0.15500304],\n",
       "       [0.36555065, 0.16119232],\n",
       "       [0.37205214, 0.16836372],\n",
       "       [0.37567497, 0.17274415],\n",
       "       [0.37947052, 0.17778033],\n",
       "       [0.38349135, 0.18358762],\n",
       "       [0.38784183, 0.19037129],\n",
       "       [0.38952101, 0.19311802],\n",
       "       [0.38967693, 0.19340909],\n",
       "       [0.38984743, 0.1937615 ],\n",
       "       [0.39003466, 0.19418933],\n",
       "       [0.39024119, 0.19471054],\n",
       "       [0.39047018, 0.19534836],\n",
       "       [0.3907255 , 0.1961331 ],\n",
       "       [0.39101196, 0.1971048 ],\n",
       "       [0.39133564, 0.19831712],\n",
       "       [0.3917043 , 0.19984297],\n",
       "       [0.39212801, 0.20178308],\n",
       "       [0.39221824, 0.20223209],\n",
       "       [0.3922756 , 0.20256053],\n",
       "       [0.39233436, 0.20293733],\n",
       "       [0.39233436, 0.20293733],\n",
       "       [0.39233436, 0.20293733],\n",
       "       [0.39233436, 0.20293733],\n",
       "       [0.39233436, 0.20293733],\n",
       "       [0.39233436, 0.20293733],\n",
       "       [0.39233436, 0.20293733],\n",
       "       [0.39233436, 0.20293733],\n",
       "       [0.39233436, 0.20293733],\n",
       "       [0.39233436, 0.20293733],\n",
       "       [0.39233436, 0.20293733]])"
      ]
     },
     "execution_count": 57,
     "metadata": {},
     "output_type": "execute_result"
    }
   ],
   "source": [
    "sorted_ucef = np.array(sorted(ucef, key=lambda x: x[1]))\n",
    "sorted_ucef"
   ]
  },
  {
   "cell_type": "code",
   "execution_count": null,
   "id": "975dbed3",
   "metadata": {},
   "outputs": [],
   "source": [
    "def difference(ucef,ccef):\n",
    "    diff = 0\n",
    "    x_diff_set = []\n",
    "    y_diff_set = []\n",
    "    \n",
    "    # 收益 y_diff 第一维\n",
    "    sorted_ucef = np.array(sorted(ucef, key=lambda x: x[0]))\n",
    "    \n",
    "    # 风险 x_diff 第二维\n",
    "    sorted_ucef2 = np.array(sorted(ucef, key=lambda x: x[1]))\n",
    "    \n",
    "    \n",
    "    x_values = sorted_ucef2[:, 1].astype(float)\n",
    "    \n",
    "\n",
    "    # 遍历第二个数组中的每个元素\n",
    "    for a, b in ccef:\n",
    "        \n",
    "        # xj and yj_alt / xk and yk_alt\n",
    "        # 二分查找大于a的最小y\n",
    "        idx = np.searchsorted(sorted_ucef[:, 0], b, side='right')\n",
    "\n",
    "        # 获取大于a的最小y及其对应的x\n",
    "        if idx < len(sorted_ucef):\n",
    "            yj, xj_alt = sorted_ucef[idx]\n",
    "        else:\n",
    "            yj, xj_alt = a, b  # 如果不存在，返回None\n",
    "\n",
    "        # 二分查找小于a的最大y\n",
    "        idx_k = idx - 1\n",
    "\n",
    "        # 获取小于a的最大y及其对应的x\n",
    "        if idx_k >= 0:\n",
    "            yk, xk_alt = sorted_ucef[idx_k]\n",
    "        else:\n",
    "            yk, xk_alt = a, b  # 如果不存在，返回None\n",
    "            \n",
    "            \n",
    "        # yj xj_alt and yk xk_alt\n",
    "            \n",
    "        idx = np.searchsorted(x_values, b, side='right')\n",
    "        \n",
    "        # 获取大于 bi 的最小 x 及其对应的 y\n",
    "        if idx < len(sorted_ucef2):\n",
    "            yj_alt, xj = sorted_ucef2[idx]\n",
    "        else:\n",
    "            yj_alt, xj = a, b  # 如果不存在，返回 None\n",
    "        \n",
    "        # 二分查找小于 bi 的最大 x\n",
    "        idx_k = idx - 1\n",
    "        \n",
    "        # 获取小于 bi 的最大 y 及其对应的 x\n",
    "        if idx_k >= 0:\n",
    "            yk, xk_alt = sorted_ucef2[idx_k]\n",
    "        else:\n",
    "            yk, xk_alt = a, b  # 如果不存在，返回 None\n",
    "        \n",
    "        # y* : item[0] x* : item[1]\n",
    "        \n",
    "        x_ss = xk_alt + (xj_alt - xk_alt)*(a - yk)/(yj - yk)\n",
    "        y_ss = yk_alt + (yj_alt - yk_alt)*(b - xk)/(xj - xk)\n",
    "        \n",
    "        x_diff = abs(100 * (b - x_ss)/x_ss)\n",
    "        y_diff = abs(100 * (np.sqrt(a) - np.sqrt(y_ss))/y_ss)\n",
    "        \n",
    "        x_diff_set.append(x_diff)\n",
    "        y_diff_set.append(y_diff)\n",
    "    \n",
    "    return x_diff_set,y_diff_set   "
   ]
  },
  {
   "cell_type": "code",
   "execution_count": 15,
   "id": "aa07059a",
   "metadata": {
    "ExecuteTime": {
     "end_time": "2024-06-18T07:57:22.007626Z",
     "start_time": "2024-06-18T07:57:21.999530Z"
    }
   },
   "outputs": [],
   "source": [
    "def measurement(x_diff,y_diff):\n",
    "    \"\"\"\n",
    "    Calculate measurement\n",
    "    x_diff:risk_diff:standard deciation\n",
    "    y_diff:return_diff\n",
    "    \"\"\"\n",
    "    MEAPE = 0\n",
    "    MEDPE = 0\n",
    "    MINPE = 0\n",
    "    MAXPE = 0\n",
    "    for x,y in zip(x_diff,y_diff):\n",
    "        MEAPE += min(x,y)\n",
    "    MEAPE/=len(x_diff)\n",
    "    MEDPE = min(np.median(x_diff),np.median(y_diff))\n",
    "    MINPE = min(min(x_diff),min(y_diff))\n",
    "    MAXPE = max(max(x_diff),max(y_diff))\n",
    "\n",
    "    return MEAPE,MEDPE,MINPE,MAXPE"
   ]
  },
  {
   "cell_type": "code",
   "execution_count": 47,
   "id": "7731fa00",
   "metadata": {
    "ExecuteTime": {
     "end_time": "2024-06-20T12:16:57.915686Z",
     "start_time": "2024-06-20T12:16:57.903675Z"
    }
   },
   "outputs": [],
   "source": [
    "# acquire variable from other result\n",
    "\n",
    "# unconstrained efficient frontier\n",
    "%store -r ucef_set\n",
    "\n",
    "# sobel init and global search\n",
    "%store -r ef_set_2\n",
    "\n",
    "# genetic combined\n",
    "%store -r ef_set_3\n",
    "\n",
    "# original ABC\n",
    "%store -r ef_set_4\n",
    "\n",
    "# 3-step global search + sobel\n",
    "%store -r ef_set_5\n",
    "\n",
    "# 2-step global + sobel + genetic Scout\n",
    "%store -r ef_set_6"
   ]
  },
  {
   "cell_type": "code",
   "execution_count": 29,
   "id": "13c70bf2",
   "metadata": {
    "ExecuteTime": {
     "end_time": "2024-06-20T12:05:10.435679Z",
     "start_time": "2024-06-20T12:05:10.431824Z"
    }
   },
   "outputs": [
    {
     "name": "stdout",
     "output_type": "stream",
     "text": [
      "0.20104736737630494\n",
      "0.20125647063575722\n",
      "0.20188410455823813\n",
      "0.20035742310258475\n",
      "0.2015988557155719\n",
      "0.20145464828232015\n",
      "0.20117189300413935\n",
      "0.20138978494385476\n",
      "0.20167727994461973\n",
      "0.2014989787733078\n",
      "0.20147153127369738\n",
      "0.20216310845349347\n",
      "0.19963353262389114\n",
      "0.20108938066680482\n",
      "0.1992873264849899\n",
      "0.20132884578954602\n",
      "0.2007343833897368\n",
      "0.1935758919429786\n",
      "0.20138320247545882\n",
      "0.2013840955817353\n",
      "0.2009319823486048\n",
      "0.19632387170208807\n",
      "0.20093368308929468\n",
      "0.20070551402341105\n",
      "0.1941580214723474\n",
      "0.18779946133296657\n",
      "0.18859464871410048\n",
      "0.18882454214226768\n",
      "0.18270130986537544\n",
      "0.17820687222218917\n",
      "0.1766029149294187\n",
      "0.15577249666261364\n",
      "0.15717621300401236\n",
      "0.16189110474623383\n",
      "0.1437056653430882\n",
      "0.1413207079713018\n",
      "0.1321043003692889\n",
      "0.11974743818529006\n",
      "0.107196399704578\n",
      "0.10522850921131552\n"
     ]
    }
   ],
   "source": []
  },
  {
   "cell_type": "code",
   "execution_count": 86,
   "id": "163e87e3",
   "metadata": {
    "ExecuteTime": {
     "end_time": "2024-06-25T08:26:06.825261Z",
     "start_time": "2024-06-25T08:26:06.812679Z"
    }
   },
   "outputs": [],
   "source": [
    "### x2,y2 = difference(ucef_set,ef_set_2)\n",
    "x3,y3 = difference(ucef,ef_set_3)\n",
    "x4,y4 = difference(ucef,ef_set_4)\n",
    "x5,y5 = difference(ucef,ef_set_5)\n",
    "x6,y6 = difference(ucef,ef_set_6)"
   ]
  },
  {
   "cell_type": "code",
   "execution_count": 87,
   "id": "b66063a7",
   "metadata": {
    "ExecuteTime": {
     "end_time": "2024-06-25T08:26:08.002297Z",
     "start_time": "2024-06-25T08:26:07.994515Z"
    }
   },
   "outputs": [
    {
     "name": "stdout",
     "output_type": "stream",
     "text": [
      "MEAPE:61.784372626975674\n",
      "MEDPE:55.17605768704772\n",
      "MINPE:53.51259104211573\n",
      "MAXPE:85.29560360717335\n"
     ]
    }
   ],
   "source": [
    "MEAPE,MEDPE,MINPE,MAXPE = measurement(x2,y2)\n",
    "print(f\"MEAPE:{MEAPE}\")\n",
    "print(f\"MEDPE:{MEDPE}\")\n",
    "print(f\"MINPE:{MINPE}\")\n",
    "print(f\"MAXPE:{MAXPE}\")"
   ]
  },
  {
   "cell_type": "code",
   "execution_count": 88,
   "id": "451cd927",
   "metadata": {
    "ExecuteTime": {
     "end_time": "2024-06-25T08:26:10.037026Z",
     "start_time": "2024-06-25T08:26:10.031305Z"
    }
   },
   "outputs": [
    {
     "name": "stdout",
     "output_type": "stream",
     "text": [
      "MEAPE:59.02572141164832\n",
      "MEDPE:53.99205267223803\n",
      "MINPE:1.4296954908449027\n",
      "MAXPE:9523.098630582042\n"
     ]
    }
   ],
   "source": [
    "MEAPE,MEDPE,MINPE,MAXPE = measurement(x3,y3)\n",
    "print(f\"MEAPE:{MEAPE}\")\n",
    "print(f\"MEDPE:{MEDPE}\")\n",
    "print(f\"MINPE:{MINPE}\")\n",
    "print(f\"MAXPE:{MAXPE}\")"
   ]
  },
  {
   "cell_type": "code",
   "execution_count": 89,
   "id": "8a57c3a8",
   "metadata": {
    "ExecuteTime": {
     "end_time": "2024-06-25T08:26:12.184368Z",
     "start_time": "2024-06-25T08:26:12.179146Z"
    }
   },
   "outputs": [
    {
     "name": "stdout",
     "output_type": "stream",
     "text": [
      "MEAPE:59.944939853161635\n",
      "MEDPE:54.48255587835391\n",
      "MINPE:0.1761525955665634\n",
      "MAXPE:6372.392814926156\n"
     ]
    }
   ],
   "source": [
    "MEAPE,MEDPE,MINPE,MAXPE = measurement(x4,y4)\n",
    "print(f\"MEAPE:{MEAPE}\")\n",
    "print(f\"MEDPE:{MEDPE}\")\n",
    "print(f\"MINPE:{MINPE}\")\n",
    "print(f\"MAXPE:{MAXPE}\")"
   ]
  },
  {
   "cell_type": "code",
   "execution_count": 64,
   "id": "e52e09b1",
   "metadata": {
    "ExecuteTime": {
     "end_time": "2024-06-20T12:37:17.433072Z",
     "start_time": "2024-06-20T12:37:17.427689Z"
    }
   },
   "outputs": [
    {
     "name": "stdout",
     "output_type": "stream",
     "text": [
      "MEAPE:60.70502311700129\n",
      "MEDPE:58.333698378270014\n",
      "MINPE:18.331744335471804\n",
      "MAXPE:3289.5829399560666\n"
     ]
    }
   ],
   "source": [
    "MEAPE,MEDPE,MINPE,MAXPE = measurement(x5,y5)\n",
    "print(f\"MEAPE:{MEAPE}\")\n",
    "print(f\"MEDPE:{MEDPE}\")\n",
    "print(f\"MINPE:{MINPE}\")\n",
    "print(f\"MAXPE:{MAXPE}\")"
   ]
  },
  {
   "cell_type": "code",
   "execution_count": 85,
   "id": "7b082aa1",
   "metadata": {
    "ExecuteTime": {
     "end_time": "2024-06-25T08:25:24.398519Z",
     "start_time": "2024-06-25T08:25:24.384055Z"
    }
   },
   "outputs": [
    {
     "name": "stdout",
     "output_type": "stream",
     "text": [
      "MEAPE:61.96983461544515\n",
      "MEDPE:57.586952230178696\n",
      "MINPE:36.74747114376358\n",
      "MAXPE:16841.14125139312\n"
     ]
    }
   ],
   "source": [
    "MEAPE,MEDPE,MINPE,MAXPE = measurement(x6,y6)\n",
    "print(f\"MEAPE:{MEAPE}\")\n",
    "print(f\"MEDPE:{MEDPE}\")\n",
    "print(f\"MINPE:{MINPE}\")\n",
    "print(f\"MAXPE:{MAXPE}\")"
   ]
  },
  {
   "cell_type": "code",
   "execution_count": 78,
   "id": "6f14c10a",
   "metadata": {
    "ExecuteTime": {
     "end_time": "2024-06-20T12:51:00.932040Z",
     "start_time": "2024-06-20T12:51:00.925337Z"
    },
    "run_control": {
     "marked": true
    }
   },
   "outputs": [],
   "source": [
    "def show(ef):\n",
    "    ef = np.array(sorted(ef, key=lambda x: x[0]))\n",
    "    sum_return = sum(ef[:,0])\n",
    "    sum_risk = sum(ef[:,1])\n",
    "    mean_return = np.mean(ef[:,0])\n",
    "    mean_risk = np.mean(ef[:,1])\n",
    "    median_return = np.median(ef[:,0])\n",
    "    median_risk = np.median(ef[:,1])\n",
    "    return sum_return,sum_risk,mean_return,mean_risk,median_return,median_risk"
   ]
  },
  {
   "cell_type": "code",
   "execution_count": 79,
   "id": "0a7ce6d9",
   "metadata": {
    "ExecuteTime": {
     "end_time": "2024-06-20T12:51:01.787657Z",
     "start_time": "2024-06-20T12:51:01.781622Z"
    }
   },
   "outputs": [
    {
     "name": "stdout",
     "output_type": "stream",
     "text": [
      "sum_return:14.635035921512022\n",
      "sum_risk:7.159532042956355\n",
      "mean_return:0.3658758980378004\n",
      "mean_risk:0.17898830107390898\n",
      "median_return:0.39013792440591705\n",
      "median_risk:0.19444993653537768\n"
     ]
    }
   ],
   "source": [
    "sn,sk,mn,mk,men,mek = show(ucef)\n",
    "print(f\"sum_return:{sn}\")\n",
    "print(f\"sum_risk:{sk}\")\n",
    "print(f\"mean_return:{mn}\")\n",
    "print(f\"mean_risk:{mk}\")\n",
    "print(f\"median_return:{men}\")\n",
    "print(f\"median_risk:{mek}\")"
   ]
  },
  {
   "cell_type": "code",
   "execution_count": 82,
   "id": "c884f6d0",
   "metadata": {
    "ExecuteTime": {
     "end_time": "2024-06-20T12:51:12.455683Z",
     "start_time": "2024-06-20T12:51:12.448251Z"
    }
   },
   "outputs": [
    {
     "name": "stdout",
     "output_type": "stream",
     "text": [
      "sum_return:14.446087525125717\n",
      "sum_risk:7.260059651579359\n",
      "mean_return:0.3611521881281429\n",
      "mean_risk:0.18150149128948398\n",
      "median_return:0.3849753640498972\n",
      "median_risk:0.19756023938297307\n"
     ]
    }
   ],
   "source": [
    "sn,sk,mn,mk,men,mek = show(ef_set_4)\n",
    "print(f\"sum_return:{sn}\")\n",
    "print(f\"sum_risk:{sk}\")\n",
    "print(f\"mean_return:{mn}\")\n",
    "print(f\"mean_risk:{mk}\")\n",
    "print(f\"median_return:{men}\")\n",
    "print(f\"median_risk:{mek}\")"
   ]
  },
  {
   "cell_type": "code",
   "execution_count": 80,
   "id": "c9d081a3",
   "metadata": {
    "ExecuteTime": {
     "end_time": "2024-06-20T12:51:07.375503Z",
     "start_time": "2024-06-20T12:51:07.370134Z"
    }
   },
   "outputs": [
    {
     "name": "stdout",
     "output_type": "stream",
     "text": [
      "sum_return:14.43634878940103\n",
      "sum_risk:7.261334051292841\n",
      "mean_return:0.3609087197350256\n",
      "mean_risk:0.18153335128232104\n",
      "median_return:0.3850808580426034\n",
      "median_risk:0.19776972694232847\n"
     ]
    }
   ],
   "source": [
    "sn,sk,mn,mk,men,mek = show(ef_set_2)\n",
    "print(f\"sum_return:{sn}\")\n",
    "print(f\"sum_risk:{sk}\")\n",
    "print(f\"mean_return:{mn}\")\n",
    "print(f\"mean_risk:{mk}\")\n",
    "print(f\"median_return:{men}\")\n",
    "print(f\"median_risk:{mek}\")"
   ]
  },
  {
   "cell_type": "code",
   "execution_count": 83,
   "id": "81b730a5",
   "metadata": {
    "ExecuteTime": {
     "end_time": "2024-06-20T12:51:14.898419Z",
     "start_time": "2024-06-20T12:51:14.890893Z"
    }
   },
   "outputs": [
    {
     "name": "stdout",
     "output_type": "stream",
     "text": [
      "sum_return:14.545692831319954\n",
      "sum_risk:7.24727595761038\n",
      "mean_return:0.36364232078299896\n",
      "mean_risk:0.18118189894025952\n",
      "median_return:0.3870560522688239\n",
      "median_risk:0.1947897485809552\n"
     ]
    }
   ],
   "source": [
    "sn,sk,mn,mk,men,mek = show(ef_set_5)\n",
    "print(f\"sum_return:{sn}\")\n",
    "print(f\"sum_risk:{sk}\")\n",
    "print(f\"mean_return:{mn}\")\n",
    "print(f\"mean_risk:{mk}\")\n",
    "print(f\"median_return:{men}\")\n",
    "print(f\"median_risk:{mek}\")"
   ]
  },
  {
   "cell_type": "code",
   "execution_count": 81,
   "id": "056772c7",
   "metadata": {
    "ExecuteTime": {
     "end_time": "2024-06-20T12:51:09.877536Z",
     "start_time": "2024-06-20T12:51:09.871742Z"
    }
   },
   "outputs": [
    {
     "name": "stdout",
     "output_type": "stream",
     "text": [
      "sum_return:14.545770836286165\n",
      "sum_risk:7.335313762058816\n",
      "mean_return:0.36364427090715407\n",
      "mean_risk:0.18338284405147043\n",
      "median_return:0.3866728752156968\n",
      "median_risk:0.19999547786323796\n"
     ]
    }
   ],
   "source": [
    "sn,sk,mn,mk,men,mek = show(ef_set_3)\n",
    "print(f\"sum_return:{sn}\")\n",
    "print(f\"sum_risk:{sk}\")\n",
    "print(f\"mean_return:{mn}\")\n",
    "print(f\"mean_risk:{mk}\")\n",
    "print(f\"median_return:{men}\")\n",
    "print(f\"median_risk:{mek}\")"
   ]
  },
  {
   "cell_type": "code",
   "execution_count": 84,
   "id": "05b75e6f",
   "metadata": {
    "ExecuteTime": {
     "end_time": "2024-06-20T12:51:17.123725Z",
     "start_time": "2024-06-20T12:51:17.117769Z"
    }
   },
   "outputs": [
    {
     "name": "stdout",
     "output_type": "stream",
     "text": [
      "sum_return:14.617546719734554\n",
      "sum_risk:7.181059716759302\n",
      "mean_return:0.3654386679933638\n",
      "mean_risk:0.17952649291898257\n",
      "median_return:0.3878858464395728\n",
      "median_risk:0.19515652544631762\n"
     ]
    }
   ],
   "source": [
    "sn,sk,mn,mk,men,mek = show(ef_set_6)\n",
    "print(f\"sum_return:{sn}\")\n",
    "print(f\"sum_risk:{sk}\")\n",
    "print(f\"mean_return:{mn}\")\n",
    "print(f\"mean_risk:{mk}\")\n",
    "print(f\"median_return:{men}\")\n",
    "print(f\"median_risk:{mek}\")"
   ]
  },
  {
   "cell_type": "code",
   "execution_count": null,
   "id": "a5004421",
   "metadata": {},
   "outputs": [],
   "source": []
  }
 ],
 "metadata": {
  "kernelspec": {
   "display_name": "Python 3 (ipykernel)",
   "language": "python",
   "name": "python3"
  },
  "language_info": {
   "codemirror_mode": {
    "name": "ipython",
    "version": 3
   },
   "file_extension": ".py",
   "mimetype": "text/x-python",
   "name": "python",
   "nbconvert_exporter": "python",
   "pygments_lexer": "ipython3",
   "version": "3.11.6"
  },
  "varInspector": {
   "cols": {
    "lenName": 16,
    "lenType": 16,
    "lenVar": 40
   },
   "kernels_config": {
    "python": {
     "delete_cmd_postfix": "",
     "delete_cmd_prefix": "del ",
     "library": "var_list.py",
     "varRefreshCmd": "print(var_dic_list())"
    },
    "r": {
     "delete_cmd_postfix": ") ",
     "delete_cmd_prefix": "rm(",
     "library": "var_list.r",
     "varRefreshCmd": "cat(var_dic_list()) "
    }
   },
   "types_to_exclude": [
    "module",
    "function",
    "builtin_function_or_method",
    "instance",
    "_Feature"
   ],
   "window_display": false
  }
 },
 "nbformat": 4,
 "nbformat_minor": 5
}
