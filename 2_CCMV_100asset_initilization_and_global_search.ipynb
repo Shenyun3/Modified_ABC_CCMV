{
 "cells": [
  {
   "cell_type": "markdown",
   "id": "c02a4f7f",
   "metadata": {},
   "source": [
    "頑張って！<br>\n",
    "<img src=\"frieren.JPG\" alt=\"frieren\" width=\"100\" height=\"100\" style=\"float:left;border: 1px solid black\">"
   ]
  },
  {
   "cell_type": "markdown",
   "id": "f67acafb",
   "metadata": {},
   "source": [
    "### 采用了sobel采样的准随机数生成种群，并且探索方式变为朝着单一蜜源历史最佳和种群最佳方向探索。"
   ]
  },
  {
   "cell_type": "code",
   "execution_count": 9,
   "id": "73343235",
   "metadata": {
    "ExecuteTime": {
     "end_time": "2024-06-10T06:51:58.648077Z",
     "start_time": "2024-06-10T06:51:58.646458Z"
    }
   },
   "outputs": [],
   "source": [
    "# Author: Bian Hanzhang\n",
    "\n",
    "\"\"\"import packages\"\"\"\n",
    "import random as rand\n",
    "from copy import deepcopy\n",
    "# import time\n",
    "# from math import floor\n",
    "import numpy as np\n",
    "import matplotlib.pyplot as plt\n",
    "import pandas as pd\n",
    "from matplotlib.pyplot import MultipleLocator\n",
    "from scipy.stats import qmc"
   ]
  },
  {
   "cell_type": "code",
   "execution_count": 101,
   "id": "208874a2",
   "metadata": {
    "ExecuteTime": {
     "end_time": "2024-06-12T06:07:54.855409Z",
     "start_time": "2024-06-12T06:07:54.828654Z"
    }
   },
   "outputs": [
    {
     "data": {
      "text/html": [
       "<div>\n",
       "<style scoped>\n",
       "    .dataframe tbody tr th:only-of-type {\n",
       "        vertical-align: middle;\n",
       "    }\n",
       "\n",
       "    .dataframe tbody tr th {\n",
       "        vertical-align: top;\n",
       "    }\n",
       "\n",
       "    .dataframe thead th {\n",
       "        text-align: right;\n",
       "    }\n",
       "</style>\n",
       "<table border=\"1\" class=\"dataframe\">\n",
       "  <thead>\n",
       "    <tr style=\"text-align: right;\">\n",
       "      <th></th>\n",
       "      <th>mean_return</th>\n",
       "      <th>MO</th>\n",
       "      <th>BLL</th>\n",
       "      <th>NTAP</th>\n",
       "      <th>AFL</th>\n",
       "      <th>AAP</th>\n",
       "      <th>SRE</th>\n",
       "      <th>MGM</th>\n",
       "      <th>DHI</th>\n",
       "      <th>AON</th>\n",
       "      <th>...</th>\n",
       "      <th>LH</th>\n",
       "      <th>INCY</th>\n",
       "      <th>ALB</th>\n",
       "      <th>TROW</th>\n",
       "      <th>PFE</th>\n",
       "      <th>HP</th>\n",
       "      <th>BEN</th>\n",
       "      <th>EA</th>\n",
       "      <th>NSC</th>\n",
       "      <th>ECL</th>\n",
       "    </tr>\n",
       "  </thead>\n",
       "  <tbody>\n",
       "    <tr>\n",
       "      <th>0</th>\n",
       "      <td>0.001138</td>\n",
       "      <td>0.000102</td>\n",
       "      <td>0.000058</td>\n",
       "      <td>0.000071</td>\n",
       "      <td>0.000040</td>\n",
       "      <td>0.000037</td>\n",
       "      <td>0.000035</td>\n",
       "      <td>0.000049</td>\n",
       "      <td>0.000049</td>\n",
       "      <td>0.000062</td>\n",
       "      <td>...</td>\n",
       "      <td>0.000053</td>\n",
       "      <td>0.000039</td>\n",
       "      <td>0.000043</td>\n",
       "      <td>0.000026</td>\n",
       "      <td>0.000030</td>\n",
       "      <td>0.000052</td>\n",
       "      <td>0.000043</td>\n",
       "      <td>0.000075</td>\n",
       "      <td>0.000048</td>\n",
       "      <td>0.000031</td>\n",
       "    </tr>\n",
       "    <tr>\n",
       "      <th>1</th>\n",
       "      <td>-0.000027</td>\n",
       "      <td>0.000058</td>\n",
       "      <td>0.000216</td>\n",
       "      <td>0.000172</td>\n",
       "      <td>0.000069</td>\n",
       "      <td>0.000120</td>\n",
       "      <td>0.000053</td>\n",
       "      <td>0.000093</td>\n",
       "      <td>0.000088</td>\n",
       "      <td>0.000180</td>\n",
       "      <td>...</td>\n",
       "      <td>0.000102</td>\n",
       "      <td>0.000101</td>\n",
       "      <td>0.000072</td>\n",
       "      <td>0.000066</td>\n",
       "      <td>0.000041</td>\n",
       "      <td>0.000124</td>\n",
       "      <td>0.000082</td>\n",
       "      <td>0.000197</td>\n",
       "      <td>0.000118</td>\n",
       "      <td>0.000051</td>\n",
       "    </tr>\n",
       "    <tr>\n",
       "      <th>2</th>\n",
       "      <td>0.000937</td>\n",
       "      <td>0.000071</td>\n",
       "      <td>0.000172</td>\n",
       "      <td>0.000312</td>\n",
       "      <td>0.000080</td>\n",
       "      <td>0.000142</td>\n",
       "      <td>0.000044</td>\n",
       "      <td>0.000112</td>\n",
       "      <td>0.000101</td>\n",
       "      <td>0.000198</td>\n",
       "      <td>...</td>\n",
       "      <td>0.000120</td>\n",
       "      <td>0.000113</td>\n",
       "      <td>0.000081</td>\n",
       "      <td>0.000076</td>\n",
       "      <td>0.000011</td>\n",
       "      <td>0.000124</td>\n",
       "      <td>0.000098</td>\n",
       "      <td>0.000230</td>\n",
       "      <td>0.000114</td>\n",
       "      <td>0.000032</td>\n",
       "    </tr>\n",
       "  </tbody>\n",
       "</table>\n",
       "<p>3 rows × 101 columns</p>\n",
       "</div>"
      ],
      "text/plain": [
       "   mean_return        MO       BLL      NTAP       AFL       AAP       SRE  \\\n",
       "0     0.001138  0.000102  0.000058  0.000071  0.000040  0.000037  0.000035   \n",
       "1    -0.000027  0.000058  0.000216  0.000172  0.000069  0.000120  0.000053   \n",
       "2     0.000937  0.000071  0.000172  0.000312  0.000080  0.000142  0.000044   \n",
       "\n",
       "        MGM       DHI       AON  ...        LH      INCY       ALB      TROW  \\\n",
       "0  0.000049  0.000049  0.000062  ...  0.000053  0.000039  0.000043  0.000026   \n",
       "1  0.000093  0.000088  0.000180  ...  0.000102  0.000101  0.000072  0.000066   \n",
       "2  0.000112  0.000101  0.000198  ...  0.000120  0.000113  0.000081  0.000076   \n",
       "\n",
       "        PFE        HP       BEN        EA       NSC       ECL  \n",
       "0  0.000030  0.000052  0.000043  0.000075  0.000048  0.000031  \n",
       "1  0.000041  0.000124  0.000082  0.000197  0.000118  0.000051  \n",
       "2  0.000011  0.000124  0.000098  0.000230  0.000114  0.000032  \n",
       "\n",
       "[3 rows x 101 columns]"
      ]
     },
     "execution_count": 101,
     "metadata": {},
     "output_type": "execute_result"
    }
   ],
   "source": [
    "# read file\n",
    "FILE_NAME = \"/Users/bianhanzhang/Desktop/Coding/MY-ABC/data/asset pool/SP500_100_assets_pool2.csv\"\n",
    "data = pd.read_csv(FILE_NAME)\n",
    "data.head(3)"
   ]
  },
  {
   "cell_type": "code",
   "execution_count": 3,
   "id": "4a70e275",
   "metadata": {
    "ExecuteTime": {
     "end_time": "2024-06-10T06:20:22.265550Z",
     "start_time": "2024-06-10T06:20:22.258941Z"
    }
   },
   "outputs": [],
   "source": [
    "# mean return of 100 selected bonds\n",
    "SP_mean_rtn = np.reshape(np.array(data.iloc[:,0]),(100,1))\n",
    "\n",
    "# covariance of 100 selected bonds\n",
    "SP_cov_rtn = np.array(data.iloc[:,1:])"
   ]
  },
  {
   "cell_type": "code",
   "execution_count": 22,
   "id": "63421d44",
   "metadata": {
    "ExecuteTime": {
     "end_time": "2024-06-10T07:22:00.929420Z",
     "start_time": "2024-06-10T07:22:00.917733Z"
    }
   },
   "outputs": [],
   "source": [
    "class ParameterInformation:\n",
    "    \"\"\"\n",
    "    Store algorithm's parameters:\n",
    "    - population: amount of bees = employed bees = onlooking bees\n",
    "    - dimension: number of genes in a chromosome\n",
    "    - max_bound: upper bound of one gene on chromosome\n",
    "    - min_bound: lower bound of one gene on chromosome\n",
    "    - max_iter_num: max iteration times of each nectar\n",
    "    - algo_iter_num: current iteration times of the algorithm \n",
    "    - algo_max_iter_num: max iteration times of the algorithm\n",
    "    - risk_averse_para: risk aversion parameter of investor\n",
    "    - cardinality: number of assets included in the portfolio\n",
    "    - SPP: scout production cycle\n",
    "    \"\"\"\n",
    "\n",
    "    def __init__(self, population, dimension, min_bound, max_bound, max_iter_num,\n",
    "                 algo_max_iter_num, risk_averse_para, cardinality, SPP):\n",
    "        self.population = population\n",
    "        self.dimension = dimension\n",
    "        self.max_bound = max_bound\n",
    "        self.min_bound = min_bound\n",
    "        self.max_iter_num = max_iter_num\n",
    "        self.algo_iter_num = 0  # Initialize to 0 as the algorithm hasn't started\n",
    "        self.algo_max_iter_num = algo_max_iter_num\n",
    "        self.risk_averse_para = risk_averse_para\n",
    "        self.cardinality = cardinality\n",
    "        self.SPP = SPP\n",
    "\n",
    "    def set_algo_iter_num(self, value):\n",
    "        \"\"\"Set algorithm's iteration number\"\"\"\n",
    "        self.algo_iter_num = value\n",
    "\n",
    "    def show_parameter(self):\n",
    "        \"\"\"Show parameter\"\"\"\n",
    "        print(\"Parameter Information:\")\n",
    "        print(f\"Population: {self.population}\")\n",
    "        print(f\"Dimension: {self.dimension}\")\n",
    "        print(f\"Bounds: [{self.min_bound}, {self.max_bound}]\")\n",
    "        print(f\"Cardinality: {self.cardinality}\")\n",
    "        print(f\"Max Iter Num: {self.max_iter_num}\")\n",
    "        print(f\"Algo Max Iter Num: {self.algo_max_iter_num}\")\n",
    "        print(f\"Risk Averse Parameter: {self.risk_averse_para}\")"
   ]
  },
  {
   "cell_type": "markdown",
   "id": "e82c1083",
   "metadata": {},
   "source": [
    "***\n",
    "### log_Nectar\n",
    "1.random_直接用随机生成0，1是否更快 <br>\n",
    "2.已将class级的变量删除 <br>\n",
    "3.染色体初始化为0 array <br>\n",
    "4.限定了dv为int <br>"
   ]
  },
  {
   "cell_type": "code",
   "execution_count": 59,
   "id": "fb6e05d6",
   "metadata": {
    "ExecuteTime": {
     "end_time": "2024-06-10T07:25:16.531404Z",
     "start_time": "2024-06-10T07:25:16.518658Z"
    }
   },
   "outputs": [],
   "source": [
    "class Nectar:\n",
    "    \"\"\"nectar(chromosome) information\"\"\"\n",
    "\n",
    "    def __init__(self, dimension) -> None:\n",
    "        \"\"\"initialize chromosome and decision variable\"\"\"\n",
    "        self.chromosome = np.zeros(dimension)\n",
    "        self.dv = np.zeros(dimension, dtype=int)\n",
    "        self.fitness = 0\n",
    "        self.test_func_value = 0\n",
    "        self.iter_num = 0\n",
    "        self.select_probability = 0\n",
    "        self.best_chromosome = np.zeros(dimension)\n",
    "        self.best_dv = np.zeros(dimension, dtype=int)\n",
    "        self.best_test_value = 999\n",
    "\n",
    "    def set_chromosome(self, i, value):\n",
    "        \"\"\"set one position of the chromosome\"\"\"\n",
    "        self.chromosome[i] = value\n",
    "        \n",
    "    def set_chromosome_all(self,new_chromosome):\n",
    "        self.chromosome = new_chromosome\n",
    "\n",
    "    def random_chromosome(self, min_bound, max_bound, dimension):\n",
    "        \"\"\"randomly generate a chromosome\"\"\"\n",
    "        self.chromosome = np.random.uniform(min_bound, max_bound, dimension)\n",
    "        \n",
    "    def set_dv(self, i, value):\n",
    "        \"\"\"set one position of decision variable\"\"\"\n",
    "        self.dv[i] = value\n",
    "    \n",
    "    def random_dv(self, dimension):\n",
    "        \"\"\"randomly generate the decision variable\"\"\"\n",
    "        rnd = np.random.uniform(0, 1, dimension)\n",
    "        self.dv = np.where(rnd < 0.5, 0, 1)\n",
    "\n",
    "    def set_fitness(self, value):\n",
    "        \"\"\"set fitness of the nectar\"\"\"\n",
    "        self.fitness = value\n",
    "\n",
    "    def set_test_func_value(self, value):\n",
    "        \"\"\"set value of test function\"\"\"\n",
    "        self.test_func_value = value\n",
    "\n",
    "    def set_iter_num(self, value):\n",
    "        \"\"\"set number of times this nectar has been explored\"\"\"\n",
    "        self.iter_num = value\n",
    "\n",
    "    def set_select_probability(self, value):\n",
    "        \"\"\"set probability calculated by roulette\"\"\"\n",
    "        self.select_probability = value\n",
    "        \n",
    "    def save_best(self):\n",
    "        if self.test_func_value < self.best_test_value:\n",
    "            self.best_chromosome = deepcopy(self.chromosome)\n",
    "            self.best_dv = deepcopy(self.dv)"
   ]
  },
  {
   "cell_type": "markdown",
   "id": "7c59d08a",
   "metadata": {},
   "source": [
    "### CCMV model \n",
    "s.t.<br>\n",
    "(1) weight constraint <br>\n",
    "(2) cardinality constraint <br>\n",
    "(3) quantity constraint <br>\n",
    "(4) 0-1 constraint <br>\n",
    "<img src=\"CCMV_model.png\" alt=\"explanation of CCMV\" style=\"float:left; height:200px; width:auto; border:1px solid black\">"
   ]
  },
  {
   "cell_type": "code",
   "execution_count": 102,
   "id": "9fe5b1e0",
   "metadata": {
    "ExecuteTime": {
     "end_time": "2024-06-13T04:34:06.787099Z",
     "start_time": "2024-06-13T04:34:06.770612Z"
    }
   },
   "outputs": [],
   "source": [
    "### fix:修正目标函数计算中的x为dv=1对应的资产，并且进行了归一化\n",
    "\n",
    "# modeling \n",
    "def mean_variance(x, dv, mean_rtn, cov_rtn, risk_averse_para) -> float:\n",
    "    \"\"\"calculate objective function value\"\"\"\n",
    "    \n",
    "    # if decision variable is 0, set x = 0\n",
    "    x[dv == 0] = 0\n",
    "    \n",
    "    # normalization\n",
    "    total_weight = np.sum(x)\n",
    "    if total_weight == 0:\n",
    "        raise ValueError(\"Sum of weight is zero!\")\n",
    "    x = x/total_weight\n",
    "    \n",
    "    # objective function\n",
    "    portfolio_variance = np.dot(np.dot(x.T, cov_rtn), x)\n",
    "    portfolio_return = np.dot(x.T, mean_rtn)\n",
    "    obj_func = risk_averse_para * portfolio_variance - (1 - risk_averse_para) * portfolio_return\n",
    "\n",
    "    return obj_func\n",
    "\n",
    "\n",
    "def cal_fitness(obj_value) -> float:\n",
    "    \"\"\"calculate fitness value by obj_value\"\"\"\n",
    "    if obj_value >= 0:\n",
    "        fitness = 1 / (1 + obj_value)\n",
    "    else:\n",
    "        fitness = 1 + abs(obj_value)\n",
    "    return fitness\n",
    "\n",
    "#####  /need fix/ fixed\n",
    "#####  制约违反修改为Cardinality制约的违反程度\n",
    "\n",
    "def cal_violation(chromosome,dv,parameter):\n",
    "    \"\"\"calculate violation of solution vector\"\"\"\n",
    "    weights =  chromosome[np.where(dv == 1)]\n",
    "    violation = np.where(weights > parameter.max_bound, weights - parameter.max_bound,0) + \\\n",
    "    np.where(weights < parameter.min_bound,parameter.min_bound - weights,0)\n",
    "    total_violation = np.sum(violation)\n",
    "    \n",
    "    return total_violation\n",
    "\n",
    "#### need fix / fixed\n",
    "def deb_method(parameter,nectar,neighbor) -> bool:\n",
    "    \"\"\" whether nectar will be replaced by neighbor \"\"\"\n",
    "    \n",
    "    vio_nectar = cal_violation(nectar.chromosome,nectar.dv,parameter)\n",
    "    vio_neighbor = cal_violation(neighbor.chromosome,neighbor.dv,parameter)\n",
    "    if vio_nectar > 0 and vio_neighbor > 0:\n",
    "        return vio_nectar > vio_neighbor\n",
    "    elif vio_nectar > 0 and vio_neighbor == 0:\n",
    "        return True\n",
    "    elif vio_nectar == 0 and vio_neighbor > 0:\n",
    "        return False\n",
    "    else:\n",
    "        return nectar.fitness < neighbor.fitness"
   ]
  },
  {
   "cell_type": "markdown",
   "id": "9e643a93",
   "metadata": {},
   "source": [
    "#### c用来衡量资产的收益风险比率的系数，类似于sharp ratio \n",
    "<img src=\"c-value.png\" alt=\"explanation of c\" style=\"float:left; height:200px; width:auto; border:1px solid black\">"
   ]
  },
  {
   "cell_type": "code",
   "execution_count": 25,
   "id": "59fa60e0",
   "metadata": {
    "ExecuteTime": {
     "end_time": "2024-06-10T07:22:04.761546Z",
     "start_time": "2024-06-10T07:22:04.755039Z"
    }
   },
   "outputs": [],
   "source": [
    "# calculate c value of all assets\n",
    "def calculate_c(data, parameter):\n",
    "    theta = np.array([ 1 + (1 - parameter.risk_averse_para) * x for x in data.iloc[:,0]])\n",
    "    phi = np.array([ 1 + parameter.risk_averse_para * sum(data.iloc[i,1:])/parameter.dimension for i in range(parameter.dimension)])\n",
    "    omega =  -1 * min(0,min(theta))\n",
    "    psi = -1 * min(0,min(phi))\n",
    "    c = np.array([(theta[i] + omega)/(phi[i] + psi) for i in range(parameter.dimension)])\n",
    "    return c"
   ]
  },
  {
   "cell_type": "code",
   "execution_count": 26,
   "id": "327b5ebd",
   "metadata": {
    "ExecuteTime": {
     "end_time": "2024-06-10T07:22:05.484020Z",
     "start_time": "2024-06-10T07:22:05.475721Z"
    }
   },
   "outputs": [],
   "source": [
    "def highest_c(asset_selected, c):\n",
    "    \"\"\"select the highest c value asset that is not included in portfolio\"\"\"\n",
    "    c[asset_selected] = -999\n",
    "    max_val = np.max(c)\n",
    "    asset_index = np.where(c == max_val)[0][0]\n",
    "    return asset_index\n",
    "\n",
    "def lowest_c(asset_selected, c):\n",
    "    \"\"\"选择投资组合中包含的最低 c 值资产。\n",
    "    \n",
    "    参数:\n",
    "    asset_selected (list or ndarray): 投资组合中当前选中的资产索引。\n",
    "    c (ndarray): 所有资产的 'c' 值数组。\n",
    "\n",
    "    返回:\n",
    "    int: 在选中资产中 'c' 值最低的资产索引。\n",
    "    \"\"\"\n",
    "    # 提取选中资产的 'c' 值\n",
    "    selected_c_values = c[asset_selected]\n",
    "    \n",
    "    # 在选中资产子集中找到最小 'c' 值的索引\n",
    "    min_idx_local = np.argmin(selected_c_values)\n",
    "    \n",
    "    # 将子集中的局部索引转换为原始数组中的全局索引\n",
    "    asset_index = asset_selected[min_idx_local]\n",
    "    \n",
    "    return asset_index"
   ]
  },
  {
   "cell_type": "code",
   "execution_count": 27,
   "id": "4d086f29",
   "metadata": {
    "ExecuteTime": {
     "end_time": "2024-06-10T07:22:06.063438Z",
     "start_time": "2024-06-10T07:22:06.058367Z"
    }
   },
   "outputs": [],
   "source": [
    "# function to randomly select a number that is different from/not in i(list or int)\n",
    "\n",
    "def random_k(i, population):\n",
    "    # 确保 i 为列表统一处理\n",
    "    if isinstance(i, (int,np.integer)):\n",
    "        excluded = {i}\n",
    "    else:\n",
    "        excluded = set(i)\n",
    "\n",
    "    # 生成一个可能的选择列表，排除了 'excluded' 元素\n",
    "    possible_choices = list(set(range(population)) - excluded)\n",
    "\n",
    "    # 从剩余可能选择中随机选取\n",
    "    return np.random.choice(possible_choices)"
   ]
  },
  {
   "cell_type": "markdown",
   "id": "fe92593e",
   "metadata": {},
   "source": [
    "### Arrangement Function\n",
    "两种思路：<br>\n",
    "1.在每次跟随蜂迭代结束后，需要使用arrangement函数使得种群中每个解满足约束 <br>\n",
    "2.arrangement函数改为修正单个蜜源的制约违反，用于探索后将不可行解变为可行解，再和原蜜源比较 ***多维情况下可能会降低多样性*** <br>\n",
    "如采取思路2，计算目标函数值的时候可以不再进行normalization操作。<br>\n",
    "(1)确保资产组合满足cardinality制约：移除多余，不足添加 ***已实现***<br>\n",
    "(2)确保在资产组合中的资产权重和为1 ***已实现***<br> \n",
    "(3)确保每一种资产比例在最小值和最大值范围内 ***！未实现 是否需要存疑***"
   ]
  },
  {
   "cell_type": "code",
   "execution_count": 28,
   "id": "cab2d9ec",
   "metadata": {
    "ExecuteTime": {
     "end_time": "2024-06-10T07:22:06.932386Z",
     "start_time": "2024-06-10T07:22:06.918835Z"
    }
   },
   "outputs": [],
   "source": [
    "# arrangement function idea1\n",
    "# 修正Cardinality制约\n",
    "def arrangement1(nectar_sources, parameter, c):\n",
    "    for nectar in nectar_sources:\n",
    "        selected_index = np.where(nectar.dv == 1)[0].tolist()\n",
    "        # print(f\"selected index: {selected_index}\")\n",
    "        asset_num = sum(nectar.dv)\n",
    "        diff = asset_num - parameter.cardinality\n",
    "        # print(f\"diff: {diff}\")\n",
    "        if diff > 0:\n",
    "            # remove redundant assets\n",
    "            cnt = 0\n",
    "            while cnt < diff:\n",
    "                random_num = np.random.uniform(0,1)\n",
    "                if random_num < 0.5:\n",
    "                    # randomly select an selected asset and remove from the portfolio\n",
    "                    # let dv[selected]=0\n",
    "                    ast_selected = np.random.choice(selected_index)\n",
    "                    selected_index.remove(ast_selected)\n",
    "                    nectar.set_dv(ast_selected,0)\n",
    "                elif random_num >= 0.5:\n",
    "                    # select the asset with lowest c-value\n",
    "                    ast_selected = lowest_c(selected_index,c)\n",
    "                    # print(f\"type:{type(ast_selected)}\")\n",
    "                    selected_index.remove(ast_selected)\n",
    "                    nectar.set_dv(ast_selected,0)\n",
    "                cnt+=1\n",
    "        elif diff < 0:\n",
    "            # add assets\n",
    "            cnt = 0\n",
    "            diff = abs(diff)\n",
    "            while cnt < diff:\n",
    "                random_num = np.random.uniform(0,1)\n",
    "                if random_num < 0.5:\n",
    "                    # randomly select an unselected asset and put into the portfolio\n",
    "                    # let dv[selected]=1\n",
    "                    ast_selected = random_k(selected_index,parameter.dimension)\n",
    "                    selected_index.append(ast_selected)\n",
    "                    nectar.set_dv(ast_selected,1)\n",
    "                elif random_num >= 0.5:\n",
    "                    # select the asset with highest c-value\n",
    "                    ast_selected = highest_c(selected_index,c)\n",
    "                    selected_index.append(ast_selected)\n",
    "                    nectar.set_dv(ast_selected,1)\n",
    "                cnt+=1\n",
    "                \n",
    "        # Normalization for dv == 1\n",
    "        weights = nectar.chromosome[nectar.dv == 1]\n",
    "        sum_of_weights = np.sum(weights)\n",
    "        weights = weights / sum_of_weights\n",
    "        nectar.chromosome[nectar.dv == 1] = weights\n",
    "        \n",
    "    return nectar_sources    "
   ]
  },
  {
   "cell_type": "code",
   "execution_count": 29,
   "id": "093bc4fc",
   "metadata": {
    "ExecuteTime": {
     "end_time": "2024-06-10T07:22:07.427143Z",
     "start_time": "2024-06-10T07:22:07.416648Z"
    }
   },
   "outputs": [],
   "source": [
    "# arrangement function ider2\n",
    "\n",
    "def arrangement2(nectar, parameter, c):\n",
    "    selected_index = np.where(nectar.dv == 1)[0].tolist()\n",
    "    # print(f\"selected index: {selected_index}\")\n",
    "    asset_num = sum(nectar.dv)\n",
    "    diff = asset_num - parameter.cardinality\n",
    "    # print(f\"diff: {diff}\")\n",
    "    if diff > 0:\n",
    "        # remove redundant assets\n",
    "        cnt = 0\n",
    "        while cnt < diff:\n",
    "            random_num = np.random.uniform(0,1)\n",
    "            if random_num < 0.5:\n",
    "                # randomly select an selected asset and remove from the portfolio\n",
    "                # let dv[selected]=0\n",
    "                ast_selected = np.random.choice(selected_index)\n",
    "                selected_index.remove(ast_selected)\n",
    "                nectar.set_dv(ast_selected,0)\n",
    "            elif random_num >= 0.5:\n",
    "                # select the asset with lowest c-value\n",
    "                ast_selected = lowest_c(selected_index,c)\n",
    "                # print(f\"type:{type(ast_selected)}\")\n",
    "                selected_index.remove(ast_selected)\n",
    "                nectar.set_dv(ast_selected,0)\n",
    "            cnt+=1\n",
    "    elif diff < 0:\n",
    "        # add assets\n",
    "        cnt = 0\n",
    "        diff = abs(diff)\n",
    "        while cnt < diff:\n",
    "            random_num = np.random.uniform(0,1)\n",
    "            if random_num < 0.5:\n",
    "                # randomly select an unselected asset and put into the portfolio\n",
    "                # let dv[selected]=1\n",
    "                ast_selected = random_k(selected_index,parameter.dimension)\n",
    "                selected_index.append(ast_selected)\n",
    "                nectar.set_dv(ast_selected,1)\n",
    "            elif random_num >= 0.5:\n",
    "                # select the asset with highest c-value\n",
    "                ast_selected = highest_c(selected_index,c)\n",
    "                selected_index.append(ast_selected)\n",
    "                nectar.set_dv(ast_selected,1)\n",
    "            cnt+=1\n",
    "                \n",
    "    # Normalization for dv == 1\n",
    "    weights = nectar.chromosome[nectar.dv == 1]\n",
    "    sum_of_weights = np.sum(weights)\n",
    "    weights = weights / sum_of_weights\n",
    "    nectar.chromosome[nectar.dv == 1] = weights\n",
    "        \n",
    "    return nectar    "
   ]
  },
  {
   "cell_type": "markdown",
   "id": "b51ed2d3",
   "metadata": {
    "ExecuteTime": {
     "end_time": "2024-05-24T07:58:41.618362Z",
     "start_time": "2024-05-24T07:58:41.611301Z"
    }
   },
   "source": [
    "### log_Initialization of nectar sources \n",
    "(1)是否在初始化时进行arrangement <br>\n",
    "(2)copy是否需要复制该蜜源的迭代次数和被选择概率、能否直接用深拷贝？ <br>\n",
    "(3)在保存全局最优蜜源时，比较的是目标函数值还是适应度？"
   ]
  },
  {
   "cell_type": "code",
   "execution_count": 45,
   "id": "cba82b18",
   "metadata": {
    "ExecuteTime": {
     "end_time": "2024-06-10T07:23:55.668118Z",
     "start_time": "2024-06-10T07:23:55.661310Z"
    }
   },
   "outputs": [],
   "source": [
    "def sobol_sequence(dimension,lb,ub):\n",
    "    sobol = qmc.Sobol(d=1)\n",
    "    # 生成长度为100的样本\n",
    "    sample = sobol.random_base2(m=7)  # 生成2^7 = 128个样本，然后取前100个\n",
    "    sample = sample[:dimension]\n",
    "\n",
    "    # 将样本缩放到[0.001, 0.4]范围\n",
    "    lower_bound = lb\n",
    "    upper_bound = ub\n",
    "    scaled_sample = qmc.scale(sample, lower_bound, upper_bound)\n",
    "\n",
    "    # 将结果转换为ndarray\n",
    "    result_array = np.array(scaled_sample).flatten()\n",
    "    \n",
    "    return result_array "
   ]
  },
  {
   "cell_type": "code",
   "execution_count": 68,
   "id": "88b9af81",
   "metadata": {
    "ExecuteTime": {
     "end_time": "2024-06-10T07:33:52.310254Z",
     "start_time": "2024-06-10T07:33:52.292127Z"
    }
   },
   "outputs": [],
   "source": [
    "def init_nectar_sources(nectar_sources, best_nectar_source, parameter, mean_rtn, cov_rtn, c):\n",
    "    \"\"\"initialize the nectar sources\"\"\"\n",
    "    best_nectar_source.random_dv(parameter.dimension)\n",
    "    best_nectar_source.set_chromosome_all(sobol_sequence(parameter.dimension,parameter.min_bound,parameter.max_bound))\n",
    "    \n",
    "    best_nectar_source.set_test_func_value(mean_variance(\n",
    "        best_nectar_source.chromosome, best_nectar_source.dv, \n",
    "        mean_rtn, cov_rtn, parameter.risk_averse_para))\n",
    "    \n",
    "    best_nectar_source.set_fitness(cal_fitness(best_nectar_source.test_func_value))\n",
    "    \n",
    "    # best_nectar_source.set_select_probability(0)   \n",
    "    # best_nectar_source.set_iter_num(0)\n",
    "    \n",
    "    for i in range(parameter.population):\n",
    "        nectar_sources[i].set_chromosome_all(\n",
    "            sobol_sequence(parameter.dimension,parameter.min_bound,parameter.max_bound))\n",
    "        nectar_sources[i].random_dv(parameter.dimension)\n",
    "        \n",
    "    \n",
    "    for i in range(parameter.population):    \n",
    "        nectar_sources[i].set_test_func_value(mean_variance(\n",
    "            nectar_sources[i].chromosome, nectar_sources[i].dv, mean_rtn,\n",
    "            cov_rtn, parameter.risk_averse_para))\n",
    "        \n",
    "        nectar_sources[i].set_fitness(\n",
    "            cal_fitness(nectar_sources[i].test_func_value))\n",
    "        # nectar_sources[i].set_select_probability(0)\n",
    "        # nectar_sources[i].set_iter_num(0)\n",
    "\n",
    "\n",
    "def regenerate_nectar(nectar_sources, i, parameter, mean_rtn, cov_rtn):\n",
    "    \"\"\"regenerate the i-th nectar\"\"\"\n",
    "    nectar_sources[i].set_chromosome_all(\n",
    "        sobol_sequence(parameter.dimension,parameter.min_bound,parameter.max_bound))\n",
    "    nectar_sources[i].random_dv(parameter.dimension)\n",
    "    nectar_sources[i].set_test_func_value(\n",
    "        mean_variance(nectar_sources[i].chromosome, nectar_sources[i].dv, \n",
    "                      mean_rtn, cov_rtn, parameter.risk_averse_para))\n",
    "    nectar_sources[i].set_fitness(\n",
    "        cal_fitness(nectar_sources[i].test_func_value))\n",
    "    nectar_sources[i].set_select_probability(0)\n",
    "    nectar_sources[i].set_iter_num(0)\n",
    "\n",
    "#####\n",
    "# 比较目标函数值还是适应度？\n",
    "def save_best_nectar_source(nectar_sources, best_nectar_source, parameter):\n",
    "    \"\"\"save the best nectar source into best_nectar_source\"\"\"\n",
    "    sum_func = 0\n",
    "    for i in range(parameter.population):\n",
    "        sum_func += nectar_sources[i].test_func_value\n",
    "        if nectar_sources[i].test_func_value < best_nectar_source.test_func_value:\n",
    "            best_nectar_source = deepcopy(nectar_sources[i])\n",
    "            # print(\"yes\")\n",
    "    # print(sum_func)    \n",
    "    return best_nectar_source"
   ]
  },
  {
   "cell_type": "markdown",
   "id": "73e78f9f",
   "metadata": {},
   "source": [
    "### 雇佣峰行为\n",
    "逻辑：用neighbor暂时储存探索值，再用deb's method比较后选择 <br>\n",
    "改进点：探索方法可以考虑***当前最佳蜜源***的影响 <br>\n",
    "\n",
    "目前的探索方法：<br>\n",
    "<img src=\"explore_method.png\" alt=\"exploration method\" style=\"float:left; height:200px; width:auto; border:1px solid black\">"
   ]
  },
  {
   "cell_type": "code",
   "execution_count": 103,
   "id": "0ebde9c8",
   "metadata": {
    "ExecuteTime": {
     "end_time": "2024-06-13T04:34:37.398704Z",
     "start_time": "2024-06-13T04:34:37.381432Z"
    }
   },
   "outputs": [],
   "source": [
    "#####  /need fix/ \n",
    "#####  neighbor直接深拷贝蜜源i\n",
    "#####  dv的探索方法，和染色体基因的联系 fixed\n",
    "#####  是否z的更新也要看是否超过了MR fixed\n",
    "    \n",
    "def employed_bee_behavior(nectar_sources,best_nectar_source,parameter, mean_rtn, cov_rtn, c, MR):\n",
    "    \"\"\"employed bee behavior\"\"\"\n",
    "    for i in range(parameter.population):\n",
    "        \n",
    "        # deepcopy neighbor from the i-th nectar_source\n",
    "        neighbor = deepcopy(nectar_sources[i])\n",
    "        \n",
    "        # explore every positon of the dv and chromosome if random > MR\n",
    "        for j in range(parameter.dimension):\n",
    "            if np.random.rand() < MR:\n",
    "                \n",
    "                # randomly select another nectar k to crossover, k!=i\n",
    "                k = random_k(i,parameter.population)\n",
    "                \n",
    "                # update dv[j]\n",
    "                expo = -nectar_sources[i].dv[j] + rand.uniform(-1,1) * \\\n",
    "                (nectar_sources[i].dv[j] - nectar_sources[k].dv[j]) + \\\n",
    "                rand.uniform(0,0.5) * (nectar_sources[i].best_dv[j] - nectar_sources[i].dv[j]) + \\\n",
    "                rand.uniform(0,0.5) * (best_nectar_source.dv[j] - nectar_sources[i].dv[j])\n",
    "                \n",
    "                # zij: explored dv[j]\n",
    "                zij = round(1/(1 + np.exp(expo)) - 0.06)\n",
    "                neighbor.set_dv(j,zij)\n",
    "                # print(sum(neighbor.dv))\n",
    "                \n",
    "                if zij == 1:\n",
    "                    # k = random_k(i,parameter.population)\n",
    "                    \n",
    "                    update = nectar_sources[i].chromosome[j] + rand.uniform(-1, 1) * \\\n",
    "                    (nectar_sources[i].chromosome[j] - nectar_sources[k].chromosome[j]) + \\\n",
    "                    rand.uniform(0,0.5) * (nectar_sources[i].best_chromosome[j] - nectar_sources[i].chromosome[j]) + \\\n",
    "                    rand.uniform(0,0.5) * (best_nectar_source.chromosome[j] - nectar_sources[i].chromosome[j])\n",
    "                    \n",
    "                    neighbor.set_chromosome(j, update)\n",
    "\n",
    "                    # preventing from exceeding boundary\n",
    "                    if neighbor.chromosome[j] > parameter.max_bound:\n",
    "                        neighbor.chromosome[j] = parameter.max_bound\n",
    "                    elif neighbor.chromosome[j] < parameter.min_bound:\n",
    "                        neighbor.chromosome[j] = parameter.min_bound\n",
    "        \n",
    "        # arrange neighbor to satisfy constraints\n",
    "        neighbor = arrangement2(neighbor,parameter,c)\n",
    "\n",
    "        # calculate fitness of neighbor_chromosome and plus iter\n",
    "        neighbor_test_func_value = mean_variance( \n",
    "            neighbor.chromosome, neighbor.dv, mean_rtn, cov_rtn, parameter.risk_averse_para) \n",
    "        neighbor_fitness = cal_fitness(neighbor_test_func_value)\n",
    "        \n",
    "        neighbor.set_test_func_value(neighbor_test_func_value)\n",
    "        neighbor.set_fitness(neighbor_fitness)\n",
    "\n",
    "        # deb's method\n",
    "        # print(deb_method(parameter,nectar_sources[i],neighbor))\n",
    "#         print(neighbor_fitness)\n",
    "#         print(nectar_sources[i].fitness)\n",
    "        if deb_method(parameter,nectar_sources[i], neighbor):\n",
    "            \n",
    "            nectar_sources[i] = neighbor\n",
    "            nectar_sources[i].set_iter_num(0)\n",
    "            nectar_sources[i].save_best()\n",
    "            ##### 是否需要将蜜源i的迭代次数归0 已修改\n",
    "        else:\n",
    "            nectar_sources[i].set_iter_num(\n",
    "                nectar_sources[i].iter_num + 1)\n",
    "\n",
    "    # algorithms's iteration times +1\n",
    "    parameter.set_algo_iter_num(parameter.algo_iter_num + 1)"
   ]
  },
  {
   "cell_type": "markdown",
   "id": "ebf4da42",
   "metadata": {},
   "source": [
    "### 轮盘赌选择跟随峰跟随的蜜源\n",
    "思路：基于蜜源的制约违反程度violation和适应度生成被选择的概率列表 <br>\n",
    "改动：即使为不可行解，也考虑了适应度的大小 <br>\n",
    "if violation > 0: prob = (1 - v/sum(violation) + f/sum(fitness) * 0.5 which < 0.5 <br>\n",
    "else: prob = 0.5 + f/sum(fitness) * 0.5  which > 0.5<br>"
   ]
  },
  {
   "cell_type": "code",
   "execution_count": 104,
   "id": "cef51a83",
   "metadata": {
    "ExecuteTime": {
     "end_time": "2024-06-13T04:35:10.186989Z",
     "start_time": "2024-06-13T04:35:10.177876Z"
    }
   },
   "outputs": [],
   "source": [
    "#####  /need fix/  fixed\n",
    "#####  即使为不可行解，也需要考虑适应度的大小\n",
    "#####  在v>0时，添加了f/sum(fitness)，但这一项的权重大小还需考虑\n",
    "#####  应该为返回一个概率列表\n",
    "\n",
    "def roulette(nectar_sources, parameter) -> list:\n",
    "    \"\"\"calculate each nectar's selection probability\"\"\"\n",
    "\n",
    "    fitness_list = np.array([nectar.fitness for nectar in nectar_sources])\n",
    "    violation_list = np.array([cal_violation(nectar.chromosome,nectar.dv, parameter) for nectar in nectar_sources]).reshape(parameter.population,1)\n",
    "\n",
    "    total_fitness = np.sum(fitness_list)\n",
    "    total_violation = np.sum(violation_list)\n",
    "    \n",
    "    prob_list = np.zeros_like(fitness_list, dtype = float)\n",
    "    \n",
    "    violated = violation_list > 0\n",
    "\n",
    "    prob_list[violated] = (1 - violation_list[violated] / total_violation) * 0.5\n",
    "    \n",
    "    prob_list[~violated] = 0.5 + fitness_list[~violated] / total_fitness * 0.5\n",
    "    \n",
    "    return prob_list"
   ]
  },
  {
   "cell_type": "code",
   "execution_count": 105,
   "id": "e5a2489e",
   "metadata": {
    "ExecuteTime": {
     "end_time": "2024-06-13T04:35:16.222161Z",
     "start_time": "2024-06-13T04:35:16.206579Z"
    }
   },
   "outputs": [],
   "source": [
    "#####  /need fix/ fixed\n",
    "#####  dv的更新\n",
    "#####\n",
    "def onlooking_bee_behavior(nectar_sources,best_nectar_source,parameter, mean_rtn, cov_rtn, c, MR):\n",
    "    \"\"\"onlooking bee behavior\"\"\"\n",
    "    i = 0\n",
    "    prob_list = roulette(nectar_sources,parameter)\n",
    "    nectar_list = np.arange(0,parameter.population)\n",
    "    \n",
    "    while i < parameter.population:\n",
    "        \n",
    "        # select a nectar based on probability(roulette)\n",
    "        # add [0] : rand.choices returns a list -> turns list into int\n",
    "        nectar_selected = rand.choices(nectar_list, prob_list)[0]\n",
    "        \n",
    "        \n",
    "        # copy chromosome and dv from selected nectar_source\n",
    "        neighbor = deepcopy(nectar_sources[nectar_selected])\n",
    "        \n",
    "        # expolore every position of the selected dv and chromosome\n",
    "        for j in range(parameter.dimension):\n",
    "            if np.random.rand() < MR:\n",
    "                \n",
    "                # randomly select another nectar k to crossover, k!=nectar_selected\n",
    "                k = random_k(nectar_selected,parameter.population)\n",
    "                \n",
    "                # update z\n",
    "                expo = -nectar_sources[nectar_selected].dv[j] + rand.uniform(-1,1) * \\\n",
    "                (nectar_sources[nectar_selected].dv[j] - nectar_sources[k].dv[j]) + \\\n",
    "                rand.uniform(0,0.5) * (nectar_sources[i].best_dv[j] - nectar_sources[nectar_selected].dv[j]) + \\\n",
    "                rand.uniform(0,0.5) * (best_nectar_source.dv[j] - nectar_sources[nectar_selected].dv[j])\n",
    "                \n",
    "                zij = round(1/(1 + np.exp(expo)) - 0.06)\n",
    "                neighbor.set_dv(j,zij)\n",
    "                \n",
    "                if zij == 1:\n",
    "                    update = nectar_sources[nectar_selected].chromosome[j] + \\\n",
    "                        rand.uniform(-1, 1) * (nectar_sources[nectar_selected].chromosome[j] - nectar_sources[k].chromosome[j]) + \\\n",
    "                        rand.uniform(0,0.5) * (nectar_sources[i].best_chromosome[j] - nectar_sources[nectar_selected].chromosome[j]) + \\\n",
    "                        rand.uniform(0,0.5) * (best_nectar_source.chromosome[j] - nectar_sources[nectar_selected].chromosome[j])\n",
    "                    neighbor.set_chromosome(j,update)\n",
    "\n",
    "                    # preventing from exceeding boundary\n",
    "                    if neighbor.chromosome[j] > parameter.max_bound:\n",
    "                        neighbor.chromosome[j] = parameter.max_bound\n",
    "                    elif neighbor.chromosome[j] < parameter.min_bound:\n",
    "                        neighbor.chromosome[j] = parameter.min_bound\n",
    "        \n",
    "        # arrange neighbor to satisfy constraints\n",
    "        neighbor = arrangement2(neighbor,parameter,c)\n",
    "\n",
    "        # calculate fitness of neighbor_chromosome and plus iter\n",
    "        neighbor_test_func_value = mean_variance( \n",
    "            neighbor.chromosome, neighbor.dv, mean_rtn, cov_rtn, parameter.risk_averse_para) \n",
    "        neighbor_fitness = cal_fitness(neighbor_test_func_value)\n",
    "        \n",
    "        neighbor.set_test_func_value(neighbor_test_func_value)\n",
    "        neighbor.set_fitness(neighbor_fitness)\n",
    "\n",
    "        # deb's method\n",
    "        # print(deb_method(parameter,nectar_sources[nectar_selected],neighbor))\n",
    "        if deb_method(parameter,nectar_sources[nectar_selected],neighbor):\n",
    "            nectar_sources[nectar_selected] = neighbor\n",
    "            nectar_sources[nectar_selected].set_iter_num(0)\n",
    "            nectar_sources[i].save_best()\n",
    "        else:\n",
    "            nectar_sources[nectar_selected].set_iter_num(\n",
    "                nectar_sources[nectar_selected].iter_num + 1)\n",
    "        i += 1"
   ]
  },
  {
   "cell_type": "markdown",
   "id": "b7131160",
   "metadata": {},
   "source": [
    "### 侦查蜂行为\n",
    "循环蜜源列表，如果有蜜源的迭代次数超过了最大迭代次数则重新生成该蜜源 <br>"
   ]
  },
  {
   "cell_type": "code",
   "execution_count": 50,
   "id": "27202cbd",
   "metadata": {
    "ExecuteTime": {
     "end_time": "2024-06-10T07:23:57.052182Z",
     "start_time": "2024-06-10T07:23:57.046285Z"
    }
   },
   "outputs": [],
   "source": [
    "#####  /need fix/\n",
    "#####  SPP的运用/或者和遗传算法结合\n",
    "#####\n",
    "def scout_bee_behavior(nectar_sources, parameter, mean_rtn, cov_rtn):\n",
    "    \"\"\"scout bee behavior\"\"\"\n",
    "    for i in range(parameter.population):\n",
    "        if nectar_sources[i].iter_num > parameter.max_iter_num:\n",
    "            regenerate_nectar(nectar_sources, i, parameter, mean_rtn, cov_rtn)"
   ]
  },
  {
   "cell_type": "code",
   "execution_count": 112,
   "id": "c99154c9",
   "metadata": {
    "ExecuteTime": {
     "end_time": "2024-06-13T05:01:07.880597Z",
     "start_time": "2024-06-13T05:01:07.869205Z"
    }
   },
   "outputs": [],
   "source": [
    "def artificial_bee_colony(parameter, mean_rtn, cov_rtn, MR):\n",
    "    \"\"\"main function: control algorithm's process\"\"\"\n",
    "    parameter.show_parameter()\n",
    "    result_by_iter = []\n",
    "    nectar_sources = np.array([Nectar(parameter.dimension)\n",
    "                              for i in range(parameter.population)])\n",
    "    best_nectar_source = Nectar(parameter.dimension)\n",
    "    c = calculate_c(data,parameter)\n",
    "    # run algorithm max_test_num times and calculate mean result\n",
    "\n",
    "    parameter.set_algo_iter_num(0)\n",
    "    init_nectar_sources(nectar_sources, best_nectar_source,\n",
    "                        parameter, mean_rtn, cov_rtn, c)\n",
    "    # arrangement(nectar_sources,parameter,c)\n",
    "    best_nectar_source = save_best_nectar_source(nectar_sources, best_nectar_source, parameter)\n",
    "\n",
    "    while parameter.algo_iter_num < parameter.algo_max_iter_num:\n",
    "        employed_bee_behavior(nectar_sources, best_nectar_source, parameter, mean_rtn, cov_rtn, c, MR)\n",
    "        onlooking_bee_behavior(nectar_sources,best_nectar_source,parameter,mean_rtn, cov_rtn, c, MR)\n",
    "        # nectar_sources = arrangement1(nectar_sources,parameter,c)\n",
    "        best_nectar_source = save_best_nectar_source(\n",
    "            nectar_sources, best_nectar_source, parameter)\n",
    "        if parameter.algo_iter_num % parameter.SPP == 0:\n",
    "            scout_bee_behavior(nectar_sources, parameter, mean_rtn, cov_rtn)\n",
    "        \n",
    "        result = best_nectar_source.test_func_value\n",
    "        result_by_iter.append(result)\n",
    "        \n",
    "        # result_vector[0] = best_nectar_source.chromosome\n",
    "        # print(f\"Algorithm Process {parameter.algo_iter_num / parameter.algo_max_iter_num * 100:.1f}%\")\n",
    "\n",
    "    # print(result_by_iter)\n",
    "    draw(result_by_iter,parameter.algo_max_iter_num)\n",
    "    best_nectar_source = arrangement2(best_nectar_source,parameter,c)\n",
    "    \n",
    "    return best_nectar_source"
   ]
  },
  {
   "cell_type": "code",
   "execution_count": 87,
   "id": "943858cd",
   "metadata": {
    "ExecuteTime": {
     "end_time": "2024-06-11T05:55:31.537168Z",
     "start_time": "2024-06-11T05:55:31.531188Z"
    }
   },
   "outputs": [],
   "source": [
    "def draw(func_value, max_algo_iter_num):\n",
    "    '''画出收敛图'''\n",
    "    x = np.linspace(0, max_algo_iter_num, max_algo_iter_num)\n",
    "    plt.figure(num=1, figsize=(8, 5))  # num表示的是编号，figsize表示的是图表的长宽\n",
    "    # plt.yscale('log')  # 设置纵坐标的缩放\n",
    "    x_major_locator = MultipleLocator(\n",
    "        max_algo_iter_num/10)  # 把x轴的刻度间隔设置为100，并存在变量里\n",
    "    ax = plt.gca()  # ax为两条坐标轴的实例\n",
    "    ax.xaxis.set_major_locator(x_major_locator)  # 把x轴的主刻度设置为100的倍数\n",
    "\n",
    "    l1, = plt.plot(x, func_value, color='black',  # 线条颜色\n",
    "                   linewidth=1.5,  # 线条宽度\n",
    "                   linestyle='-',  # 线条样式\n",
    "                   label='algorithm1')\n",
    "    plt.show()"
   ]
  },
  {
   "cell_type": "code",
   "execution_count": 53,
   "id": "e90f91cf",
   "metadata": {
    "ExecuteTime": {
     "end_time": "2024-06-10T07:23:57.555879Z",
     "start_time": "2024-06-10T07:23:57.549513Z"
    }
   },
   "outputs": [],
   "source": [
    "def cal_ann_return_risk(nectar, mean_rtn, cov_rtn):\n",
    "    \"\"\"calculate annual return and risk\"\"\"\n",
    "    sele_assets = np.where(nectar.dv == 1)[0]\n",
    "    weights = nectar.chromosome[sele_assets]\n",
    "    sele_cov = cov_rtn[np.ix_(sele_assets,sele_assets)]\n",
    "    sele_mean = mean_rtn[sele_assets]\n",
    "    ann_rtn = np.dot(weights, sele_mean) * 252  # trading days: 252\n",
    "    ann_risk = np.sqrt(np.dot(np.dot(weights, sele_cov),weights.T) * 252)\n",
    "    result = np.array([ann_rtn.item(),ann_risk])\n",
    "    return result"
   ]
  },
  {
   "cell_type": "code",
   "execution_count": 110,
   "id": "7b99cd12",
   "metadata": {
    "ExecuteTime": {
     "end_time": "2024-06-13T05:00:12.602450Z",
     "start_time": "2024-06-13T05:00:12.595813Z"
    }
   },
   "outputs": [],
   "source": [
    "# ABC parameter 100 assets\n",
    "my_population = int(20 * np.sqrt(100))\n",
    "my_MCN = int(400 * 100 / my_population)\n",
    "my_MR = 0.8\n",
    "# population, dimension, min_bound, max_bound, max_iter_num,algo_max_iter_num, \n",
    "# risk_averse_para, cardinality, SPP\n",
    "my_parameter = ParameterInformation(my_population,100,0.001,0.4,50,my_MCN,0.5,15,100)\n",
    "#(pd.DataFrame.from_dict(data=result_dict, orient=\"index\")).to_csv(\"test1.csv\", header=False)"
   ]
  },
  {
   "cell_type": "code",
   "execution_count": 109,
   "id": "a85289db",
   "metadata": {
    "ExecuteTime": {
     "end_time": "2024-06-13T04:39:49.543251Z",
     "start_time": "2024-06-13T04:36:17.888366Z"
    }
   },
   "outputs": [
    {
     "name": "stdout",
     "output_type": "stream",
     "text": [
      "Parameter Information:\n",
      "Population: 200\n",
      "Dimension: 100\n",
      "Bounds: [0.001, 0.4]\n",
      "Cardinality: 15\n",
      "Max Iter Num: 50\n",
      "Algo Max Iter Num: 200\n",
      "Risk Averse Parameter: 0.5\n",
      "Algorithm Process 0.5%\n",
      "Algorithm Process 1.0%\n",
      "Algorithm Process 1.5%\n",
      "Algorithm Process 2.0%\n",
      "Algorithm Process 2.5%\n",
      "Algorithm Process 3.0%\n",
      "Algorithm Process 3.5%\n",
      "Algorithm Process 4.0%\n",
      "Algorithm Process 4.5%\n",
      "Algorithm Process 5.0%\n",
      "Algorithm Process 5.5%\n",
      "Algorithm Process 6.0%\n",
      "Algorithm Process 6.5%\n",
      "Algorithm Process 7.0%\n",
      "Algorithm Process 7.5%\n",
      "Algorithm Process 8.0%\n",
      "Algorithm Process 8.5%\n",
      "Algorithm Process 9.0%\n",
      "Algorithm Process 9.5%\n",
      "Algorithm Process 10.0%\n",
      "Algorithm Process 10.5%\n",
      "Algorithm Process 11.0%\n",
      "Algorithm Process 11.5%\n",
      "Algorithm Process 12.0%\n",
      "Algorithm Process 12.5%\n",
      "Algorithm Process 13.0%\n",
      "Algorithm Process 13.5%\n",
      "Algorithm Process 14.0%\n",
      "Algorithm Process 14.5%\n",
      "Algorithm Process 15.0%\n",
      "Algorithm Process 15.5%\n",
      "Algorithm Process 16.0%\n",
      "Algorithm Process 16.5%\n",
      "Algorithm Process 17.0%\n",
      "Algorithm Process 17.5%\n",
      "Algorithm Process 18.0%\n",
      "Algorithm Process 18.5%\n",
      "Algorithm Process 19.0%\n",
      "Algorithm Process 19.5%\n",
      "Algorithm Process 20.0%\n",
      "Algorithm Process 20.5%\n",
      "Algorithm Process 21.0%\n",
      "Algorithm Process 21.5%\n",
      "Algorithm Process 22.0%\n",
      "Algorithm Process 22.5%\n",
      "Algorithm Process 23.0%\n",
      "Algorithm Process 23.5%\n",
      "Algorithm Process 24.0%\n",
      "Algorithm Process 24.5%\n",
      "Algorithm Process 25.0%\n",
      "Algorithm Process 25.5%\n",
      "Algorithm Process 26.0%\n",
      "Algorithm Process 26.5%\n",
      "Algorithm Process 27.0%\n",
      "Algorithm Process 27.5%\n",
      "Algorithm Process 28.0%\n",
      "Algorithm Process 28.5%\n",
      "Algorithm Process 29.0%\n",
      "Algorithm Process 29.5%\n",
      "Algorithm Process 30.0%\n",
      "Algorithm Process 30.5%\n",
      "Algorithm Process 31.0%\n",
      "Algorithm Process 31.5%\n",
      "Algorithm Process 32.0%\n",
      "Algorithm Process 32.5%\n",
      "Algorithm Process 33.0%\n",
      "Algorithm Process 33.5%\n",
      "Algorithm Process 34.0%\n",
      "Algorithm Process 34.5%\n",
      "Algorithm Process 35.0%\n",
      "Algorithm Process 35.5%\n",
      "Algorithm Process 36.0%\n",
      "Algorithm Process 36.5%\n",
      "Algorithm Process 37.0%\n",
      "Algorithm Process 37.5%\n",
      "Algorithm Process 38.0%\n",
      "Algorithm Process 38.5%\n",
      "Algorithm Process 39.0%\n",
      "Algorithm Process 39.5%\n",
      "Algorithm Process 40.0%\n",
      "Algorithm Process 40.5%\n",
      "Algorithm Process 41.0%\n",
      "Algorithm Process 41.5%\n",
      "Algorithm Process 42.0%\n",
      "Algorithm Process 42.5%\n",
      "Algorithm Process 43.0%\n",
      "Algorithm Process 43.5%\n",
      "Algorithm Process 44.0%\n",
      "Algorithm Process 44.5%\n",
      "Algorithm Process 45.0%\n",
      "Algorithm Process 45.5%\n",
      "Algorithm Process 46.0%\n",
      "Algorithm Process 46.5%\n",
      "Algorithm Process 47.0%\n",
      "Algorithm Process 47.5%\n",
      "Algorithm Process 48.0%\n",
      "Algorithm Process 48.5%\n",
      "Algorithm Process 49.0%\n",
      "Algorithm Process 49.5%\n",
      "Algorithm Process 50.0%\n",
      "Algorithm Process 50.5%\n",
      "Algorithm Process 51.0%\n",
      "Algorithm Process 51.5%\n",
      "Algorithm Process 52.0%\n",
      "Algorithm Process 52.5%\n",
      "Algorithm Process 53.0%\n",
      "Algorithm Process 53.5%\n",
      "Algorithm Process 54.0%\n",
      "Algorithm Process 54.5%\n",
      "Algorithm Process 55.0%\n",
      "Algorithm Process 55.5%\n",
      "Algorithm Process 56.0%\n",
      "Algorithm Process 56.5%\n",
      "Algorithm Process 57.0%\n",
      "Algorithm Process 57.5%\n",
      "Algorithm Process 58.0%\n",
      "Algorithm Process 58.5%\n",
      "Algorithm Process 59.0%\n",
      "Algorithm Process 59.5%\n",
      "Algorithm Process 60.0%\n",
      "Algorithm Process 60.5%\n",
      "Algorithm Process 61.0%\n",
      "Algorithm Process 61.5%\n",
      "Algorithm Process 62.0%\n",
      "Algorithm Process 62.5%\n",
      "Algorithm Process 63.0%\n",
      "Algorithm Process 63.5%\n",
      "Algorithm Process 64.0%\n",
      "Algorithm Process 64.5%\n",
      "Algorithm Process 65.0%\n",
      "Algorithm Process 65.5%\n",
      "Algorithm Process 66.0%\n",
      "Algorithm Process 66.5%\n",
      "Algorithm Process 67.0%\n",
      "Algorithm Process 67.5%\n",
      "Algorithm Process 68.0%\n",
      "Algorithm Process 68.5%\n",
      "Algorithm Process 69.0%\n",
      "Algorithm Process 69.5%\n",
      "Algorithm Process 70.0%\n",
      "Algorithm Process 70.5%\n",
      "Algorithm Process 71.0%\n",
      "Algorithm Process 71.5%\n",
      "Algorithm Process 72.0%\n",
      "Algorithm Process 72.5%\n",
      "Algorithm Process 73.0%\n",
      "Algorithm Process 73.5%\n",
      "Algorithm Process 74.0%\n",
      "Algorithm Process 74.5%\n",
      "Algorithm Process 75.0%\n",
      "Algorithm Process 75.5%\n",
      "Algorithm Process 76.0%\n",
      "Algorithm Process 76.5%\n",
      "Algorithm Process 77.0%\n",
      "Algorithm Process 77.5%\n",
      "Algorithm Process 78.0%\n",
      "Algorithm Process 78.5%\n",
      "Algorithm Process 79.0%\n",
      "Algorithm Process 79.5%\n",
      "Algorithm Process 80.0%\n",
      "Algorithm Process 80.5%\n",
      "Algorithm Process 81.0%\n",
      "Algorithm Process 81.5%\n",
      "Algorithm Process 82.0%\n",
      "Algorithm Process 82.5%\n",
      "Algorithm Process 83.0%\n",
      "Algorithm Process 83.5%\n",
      "Algorithm Process 84.0%\n",
      "Algorithm Process 84.5%\n",
      "Algorithm Process 85.0%\n",
      "Algorithm Process 85.5%\n",
      "Algorithm Process 86.0%\n",
      "Algorithm Process 86.5%\n",
      "Algorithm Process 87.0%\n",
      "Algorithm Process 87.5%\n",
      "Algorithm Process 88.0%\n",
      "Algorithm Process 88.5%\n",
      "Algorithm Process 89.0%\n",
      "Algorithm Process 89.5%\n",
      "Algorithm Process 90.0%\n",
      "Algorithm Process 90.5%\n",
      "Algorithm Process 91.0%\n",
      "Algorithm Process 91.5%\n",
      "Algorithm Process 92.0%\n",
      "Algorithm Process 92.5%\n",
      "Algorithm Process 93.0%\n",
      "Algorithm Process 93.5%\n",
      "Algorithm Process 94.0%\n",
      "Algorithm Process 94.5%\n",
      "Algorithm Process 95.0%\n",
      "Algorithm Process 95.5%\n",
      "Algorithm Process 96.0%\n",
      "Algorithm Process 96.5%\n",
      "Algorithm Process 97.0%\n",
      "Algorithm Process 97.5%\n",
      "Algorithm Process 98.0%\n",
      "Algorithm Process 98.5%\n",
      "Algorithm Process 99.0%\n",
      "Algorithm Process 99.5%\n",
      "Algorithm Process 100.0%\n",
      "[array([-0.00051132]), array([-0.00053209]), array([-0.00056484]), array([-0.00056484]), array([-0.00056484]), array([-0.00056484]), array([-0.00060386]), array([-0.00060386]), array([-0.00062443]), array([-0.00065195]), array([-0.00065195]), array([-0.00067223]), array([-0.00067223]), array([-0.00067223]), array([-0.00068365]), array([-0.00068365]), array([-0.00068365]), array([-0.00068365]), array([-0.00068365]), array([-0.00068365]), array([-0.00068365]), array([-0.00068365]), array([-0.00068365]), array([-0.00068365]), array([-0.00068365]), array([-0.00068365]), array([-0.00068365]), array([-0.00068365]), array([-0.00068365]), array([-0.00068365]), array([-0.00068365]), array([-0.00068365]), array([-0.00068365]), array([-0.00068365]), array([-0.00068365]), array([-0.0006874]), array([-0.00069108]), array([-0.00069108]), array([-0.00069108]), array([-0.00069108]), array([-0.00069108]), array([-0.00069108]), array([-0.00069108]), array([-0.00069108]), array([-0.00069108]), array([-0.00069108]), array([-0.00069108]), array([-0.00069108]), array([-0.00069108]), array([-0.00069108]), array([-0.00069108]), array([-0.00069108]), array([-0.00069108]), array([-0.00069108]), array([-0.00069108]), array([-0.00069108]), array([-0.00069108]), array([-0.00069108]), array([-0.00069108]), array([-0.00069323]), array([-0.00069323]), array([-0.00069384]), array([-0.00069384]), array([-0.00069384]), array([-0.00069384]), array([-0.00069384]), array([-0.00069384]), array([-0.00069384]), array([-0.00069384]), array([-0.00069384]), array([-0.00069384]), array([-0.00069384]), array([-0.00069384]), array([-0.00069384]), array([-0.00069384]), array([-0.00069384]), array([-0.00069384]), array([-0.00069384]), array([-0.00069384]), array([-0.00069384]), array([-0.00069384]), array([-0.00069384]), array([-0.00069384]), array([-0.00069384]), array([-0.00069384]), array([-0.00069384]), array([-0.00069384]), array([-0.00069384]), array([-0.00069384]), array([-0.00069384]), array([-0.00069384]), array([-0.00069384]), array([-0.00069384]), array([-0.00069384]), array([-0.00069384]), array([-0.00069384]), array([-0.00069384]), array([-0.00069384]), array([-0.00069384]), array([-0.00069384]), array([-0.00069384]), array([-0.00069384]), array([-0.00069384]), array([-0.00069384]), array([-0.00069384]), array([-0.00069384]), array([-0.00069384]), array([-0.00069384]), array([-0.00069384]), array([-0.00069384]), array([-0.00069384]), array([-0.00069384]), array([-0.00069384]), array([-0.00069384]), array([-0.00069384]), array([-0.00069384]), array([-0.00069384]), array([-0.00069384]), array([-0.00069384]), array([-0.00069384]), array([-0.00069384]), array([-0.00069384]), array([-0.00069384]), array([-0.00069384]), array([-0.00069384]), array([-0.00069384]), array([-0.00069384]), array([-0.00069384]), array([-0.00069384]), array([-0.00069384]), array([-0.00069384]), array([-0.00069384]), array([-0.00069384]), array([-0.00069384]), array([-0.00069384]), array([-0.00069384]), array([-0.00069384]), array([-0.00069384]), array([-0.00069384]), array([-0.00069384]), array([-0.00069384]), array([-0.00069384]), array([-0.00069384]), array([-0.00069384]), array([-0.00069384]), array([-0.00069384]), array([-0.00069384]), array([-0.00069384]), array([-0.00069384]), array([-0.00069384]), array([-0.00069384]), array([-0.00069384]), array([-0.00069384]), array([-0.00069384]), array([-0.00069384]), array([-0.00069384]), array([-0.00069384]), array([-0.00069384]), array([-0.00069384]), array([-0.00069384]), array([-0.00069384]), array([-0.00069384]), array([-0.00069384]), array([-0.00069384]), array([-0.00069384]), array([-0.00069384]), array([-0.00069384]), array([-0.00069384]), array([-0.00069384]), array([-0.00069384]), array([-0.00069384]), array([-0.00069384]), array([-0.00069384]), array([-0.00069384]), array([-0.00069384]), array([-0.00069384]), array([-0.00069384]), array([-0.00069384]), array([-0.00069384]), array([-0.00069384]), array([-0.00069384]), array([-0.00069384]), array([-0.00069384]), array([-0.00069384]), array([-0.00069384]), array([-0.00069384]), array([-0.00069384]), array([-0.00069384]), array([-0.00069384]), array([-0.00069384]), array([-0.00069384]), array([-0.00069384]), array([-0.00069384]), array([-0.00069384]), array([-0.00069384]), array([-0.00069384]), array([-0.00069384]), array([-0.00069384]), array([-0.00069384]), array([-0.00069384])]\n"
     ]
    },
    {
     "data": {
      "image/png": "[encoded data removed]",
      "text/plain": [
       "<Figure size 800x500 with 1 Axes>"
      ]
     },
     "metadata": {},
     "output_type": "display_data"
    }
   ],
   "source": [
    "best_nectar= artificial_bee_colony(my_parameter, SP_mean_rtn, SP_cov_rtn, my_MR)"
   ]
  },
  {
   "cell_type": "code",
   "execution_count": 56,
   "id": "cd40d302",
   "metadata": {
    "ExecuteTime": {
     "end_time": "2024-06-10T07:23:58.086567Z",
     "start_time": "2024-06-10T07:23:58.083592Z"
    },
    "collapsed": true
   },
   "outputs": [],
   "source": [
    "# test\n",
    "# best_nectar = arrangement2(best_nectar,my_parameter,c)\n",
    "# print(cal_ann_return_risk(best_nectar,SP_mean_rtn,SP_cov_rtn))\n",
    "# print(result_by_iter)\n",
    "# print(best_nectar.chromosome)\n",
    "# print(best_nectar.dv)\n",
    "# print(sum(best_nectar.dv))"
   ]
  },
  {
   "cell_type": "code",
   "execution_count": 115,
   "id": "ef9cf0a1",
   "metadata": {
    "ExecuteTime": {
     "end_time": "2024-06-13T05:02:54.187884Z",
     "start_time": "2024-06-13T05:02:54.179235Z"
    }
   },
   "outputs": [],
   "source": [
    "def main(mean_rtn,cov_rtn):\n",
    "    \"\"\"main function\"\"\"\n",
    "    \n",
    "    ef_set = []\n",
    "    # ABC parameter 100 assets\n",
    "    my_population = int(20 * np.sqrt(100))\n",
    "    my_MCN = int(200 * 100 / my_population)\n",
    "    my_MR = 0.8\n",
    "    num_of_rap = 40\n",
    "    risk_averse_para_set = np.linspace(0.001,1,num_of_rap)\n",
    "    \n",
    "    for i in range(num_of_rap):\n",
    "        my_parameter = ParameterInformation(my_population,100,0.001,0.4,50,my_MCN,risk_averse_para_set[i],15,50)\n",
    "        \n",
    "        best_nectar = artificial_bee_colony(my_parameter, SP_mean_rtn, SP_cov_rtn, my_MR)\n",
    "        result = cal_ann_return_risk(best_nectar,mean_rtn,cov_rtn)\n",
    "        ef_set.append(result)\n",
    "    return ef_set"
   ]
  },
  {
   "cell_type": "code",
   "execution_count": null,
   "id": "5aab7f9d",
   "metadata": {
    "ExecuteTime": {
     "start_time": "2024-06-13T05:02:55.715Z"
    }
   },
   "outputs": [
    {
     "name": "stdout",
     "output_type": "stream",
     "text": [
      "Parameter Information:\n",
      "Population: 200\n",
      "Dimension: 100\n",
      "Bounds: [0.001, 0.4]\n",
      "Cardinality: 15\n",
      "Max Iter Num: 50\n",
      "Algo Max Iter Num: 100\n",
      "Risk Averse Parameter: 0.001\n"
     ]
    },
    {
     "data": {
      "image/png": "[encoded data removed]",
      "text/plain": [
       "<Figure size 800x500 with 1 Axes>"
      ]
     },
     "metadata": {},
     "output_type": "display_data"
    },
    {
     "name": "stdout",
     "output_type": "stream",
     "text": [
      "Parameter Information:\n",
      "Population: 200\n",
      "Dimension: 100\n",
      "Bounds: [0.001, 0.4]\n",
      "Cardinality: 15\n",
      "Max Iter Num: 50\n",
      "Algo Max Iter Num: 100\n",
      "Risk Averse Parameter: 0.026615384615384617\n"
     ]
    }
   ],
   "source": [
    "ef_set = main(SP_mean_rtn,SP_cov_rtn)"
   ]
  },
  {
   "cell_type": "code",
   "execution_count": 56,
   "id": "c3528a54",
   "metadata": {
    "ExecuteTime": {
     "end_time": "2024-06-10T05:13:00.496421Z",
     "start_time": "2024-06-10T05:13:00.487141Z"
    }
   },
   "outputs": [
    {
     "name": "stdout",
     "output_type": "stream",
     "text": [
      "Stored 'ef_set' (list)\n"
     ]
    }
   ],
   "source": [
    "%store ef_set"
   ]
  },
  {
   "cell_type": "code",
   "execution_count": 98,
   "id": "53c2ebdc",
   "metadata": {
    "ExecuteTime": {
     "end_time": "2024-06-11T09:35:51.236703Z",
     "start_time": "2024-06-11T09:35:51.223431Z"
    }
   },
   "outputs": [
    {
     "data": {
      "text/plain": [
       "[array([0.41134079, 0.26214553]),\n",
       " array([0.193435  , 0.15188548]),\n",
       " array([0.41164039, 0.26249507]),\n",
       " array([0.41140945, 0.26180168]),\n",
       " array([0.22798602, 0.16092525]),\n",
       " array([0.41123409, 0.26196247]),\n",
       " array([0.41020062, 0.26169327]),\n",
       " array([0.41148157, 0.26182167]),\n",
       " array([0.21205628, 0.17416174]),\n",
       " array([0.41154675, 0.26216246]),\n",
       " array([0.41163274, 0.26145119]),\n",
       " array([0.40864126, 0.24622186]),\n",
       " array([0.40669466, 0.24008455]),\n",
       " array([0.40774853, 0.24053607]),\n",
       " array([0.40496303, 0.23028506]),\n",
       " array([0.40435443, 0.22832956]),\n",
       " array([0.37020334, 0.27754873]),\n",
       " array([0.4017133 , 0.22026563]),\n",
       " array([0.40191974, 0.22143791]),\n",
       " array([0.40223902, 0.2324027 ]),\n",
       " array([0.40017334, 0.21585652]),\n",
       " array([0.40647429, 0.24971627]),\n",
       " array([0.3956891 , 0.20740826]),\n",
       " array([0.39598307, 0.20789593]),\n",
       " array([0.38906774, 0.19991976]),\n",
       " array([0.39457049, 0.20724059]),\n",
       " array([0.3869719 , 0.19535979]),\n",
       " array([0.38307686, 0.19243527]),\n",
       " array([0.37363393, 0.17947225]),\n",
       " array([0.36945303, 0.17553348]),\n",
       " array([0.38686722, 0.19831804]),\n",
       " array([0.37971292, 0.19307543]),\n",
       " array([0.34630967, 0.1611034 ]),\n",
       " array([0.30914291, 0.17795215]),\n",
       " array([0.31938767, 0.18212469]),\n",
       " array([0.35337195, 0.17285532]),\n",
       " array([0.29147349, 0.14436896]),\n",
       " array([0.26396828, 0.13570493]),\n",
       " array([0.22291289, 0.12522203]),\n",
       " array([0.12126374, 0.11179021])]"
      ]
     },
     "execution_count": 98,
     "metadata": {},
     "output_type": "execute_result"
    }
   ],
   "source": [
    "ef_set"
   ]
  },
  {
   "cell_type": "code",
   "execution_count": 54,
   "id": "2199d736",
   "metadata": {
    "ExecuteTime": {
     "end_time": "2024-06-10T04:40:24.328108Z",
     "start_time": "2024-06-10T04:40:24.309022Z"
    }
   },
   "outputs": [],
   "source": [
    "ef_set\n",
    "df = pd.DataFrame(ef_set,columns=['abc-return','abc-risk'])\n",
    "df.to_csv('abc-ef.csv',index = False)"
   ]
  },
  {
   "cell_type": "code",
   "execution_count": 99,
   "id": "954f4819",
   "metadata": {
    "ExecuteTime": {
     "end_time": "2024-06-11T09:35:57.277573Z",
     "start_time": "2024-06-11T09:35:57.163855Z"
    }
   },
   "outputs": [
    {
     "data": {
      "image/png": "[encoded data removed]",
      "text/plain": [
       "<Figure size 640x480 with 1 Axes>"
      ]
     },
     "metadata": {},
     "output_type": "display_data"
    }
   ],
   "source": [
    "draw_ef(ef_set)"
   ]
  },
  {
   "cell_type": "code",
   "execution_count": 80,
   "id": "b1f37a0c",
   "metadata": {
    "ExecuteTime": {
     "end_time": "2024-06-10T10:56:55.818278Z",
     "start_time": "2024-06-10T10:56:55.810349Z"
    }
   },
   "outputs": [],
   "source": [
    "def draw_ef(ef_set):\n",
    "    \"\"\"\n",
    "    绘制效率前沿图。\n",
    "    \n",
    "    参数:\n",
    "    ef_set (list of lists): 每个元素是一个包含[收益, 风险]的列表。\n",
    "    \"\"\"\n",
    "    # 分解 ef_set 列表以获取单独的收益和风险列表\n",
    "    returns = [item[0] for item in ef_set]\n",
    "    risks = [item[1] for item in ef_set]\n",
    "\n",
    "    # 创建图形和坐标轴\n",
    "    fig, ax = plt.subplots()\n",
    "\n",
    "    # 绘制风险和收益点\n",
    "    ax.plot(risks, returns, 'o-', label='Efficient Frontier')  # 使用圆点和线连接的方式绘制\n",
    "\n",
    "    # 设置图形的标题和坐标轴的标签\n",
    "    ax.set_title('Efficient Frontier')\n",
    "    ax.set_xlabel('Risk (Standard Deviation)')\n",
    "    ax.set_ylabel('Expected Return')\n",
    "\n",
    "    # 添加图例\n",
    "    ax.legend()\n",
    "\n",
    "    # 启用网格\n",
    "    ax.grid(True)\n",
    "\n",
    "    # 显示图形\n",
    "    plt.show()"
   ]
  },
  {
   "cell_type": "code",
   "execution_count": 346,
   "id": "92942ac3",
   "metadata": {
    "ExecuteTime": {
     "end_time": "2024-06-06T06:39:52.703978Z",
     "start_time": "2024-06-06T06:39:52.698933Z"
    }
   },
   "outputs": [],
   "source": [
    "def cal_ann_return_risk(weight, mean_rtn, cov_rtn):\n",
    "    \"\"\"calculate annual return and risk\"\"\"\n",
    "    ann_rtn = np.dot(weight, mean_rtn) * 252  # trading days: 252\n",
    "    ann_risk = np.sqrt(np.dot(np.dot(weight, cov_rtn),weight.T) * 252)\n",
    "    result = np.array([ann_rtn.item(),ann_risk])\n",
    "    return result"
   ]
  }
 ],
 "metadata": {
  "kernelspec": {
   "display_name": "Python 3 (ipykernel)",
   "language": "python",
   "name": "python3"
  },
  "language_info": {
   "codemirror_mode": {
    "name": "ipython",
    "version": 3
   },
   "file_extension": ".py",
   "mimetype": "text/x-python",
   "name": "python",
   "nbconvert_exporter": "python",
   "pygments_lexer": "ipython3",
   "version": "3.11.6"
  }
 },
 "nbformat": 4,
 "nbformat_minor": 5
}
